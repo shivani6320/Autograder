{
  "nbformat": 4,
  "nbformat_minor": 0,
  "metadata": {
    "colab": {
      "name": "Final_notebook.ipynb",
      "provenance": [],
      "collapsed_sections": [
        "YjmuyKoyK-IG",
        "PUmIBUjRZXfS",
        "K81QMHqKfrNy"
      ],
      "include_colab_link": true
    },
    "kernelspec": {
      "name": "python3",
      "display_name": "Python 3"
    },
    "accelerator": "GPU"
  },
  "cells": [
    {
      "cell_type": "markdown",
      "metadata": {
        "id": "view-in-github",
        "colab_type": "text"
      },
      "source": [
        "<a href=\"https://colab.research.google.com/github/shivani6320/Autograder/blob/main/Final_notebook.ipynb\" target=\"_parent\"><img src=\"https://colab.research.google.com/assets/colab-badge.svg\" alt=\"Open In Colab\"/></a>"
      ]
    },
    {
      "cell_type": "markdown",
      "metadata": {
        "id": "ZzLR276UIHcI"
      },
      "source": [
        "# **Evaluation of handwritten mathematical equations**\n",
        "\n",
        "> Aim of this project  is to develop a computer vision algorithm along with solution package for recognizing and digitizing steps of solving a mathematical equation written by freehand on a paper, validating the steps and final answer of the recognized handwritten lines by maintaining the context "
      ]
    },
    {
      "cell_type": "markdown",
      "metadata": {
        "id": "ir6J5l9UurRS"
      },
      "source": [
        "## Import Dependencies"
      ]
    },
    {
      "cell_type": "code",
      "metadata": {
        "id": "3w9iqGoL_m55"
      },
      "source": [
        "#Loading libraries\n",
        "import cv2\n",
        "import numpy as np\n",
        "import matplotlib.pyplot as plt\n",
        "import pandas as pd\n",
        "import os\n",
        "from scipy import ndimage\n",
        "import math\n",
        "import keras\n",
        "import ast\n",
        "import operator as op\n",
        "import re\n",
        "from tensorflow.keras.preprocessing.image import ImageDataGenerator\n",
        "#Suppressing warning\n",
        "def warn(*args, **kwargs):\n",
        "    pass\n",
        "import warnings\n",
        "warnings.warn = warn"
      ],
      "execution_count": 2,
      "outputs": []
    },
    {
      "cell_type": "markdown",
      "metadata": {
        "id": "jsJyQr7zu9Wb"
      },
      "source": [
        "## Load the model"
      ]
    },
    {
      "cell_type": "code",
      "metadata": {
        "id": "-Rc9x7jWO66l",
        "colab": {
          "base_uri": "https://localhost:8080/"
        },
        "outputId": "ce92e4ec-b4d8-464f-b096-41933fc07a0c"
      },
      "source": [
        "!git clone https://github.com/shivani6320/Autograder.git"
      ],
      "execution_count": 3,
      "outputs": [
        {
          "output_type": "stream",
          "text": [
            "Cloning into 'Autograder'...\n",
            "remote: Enumerating objects: 24, done.\u001b[K\n",
            "remote: Counting objects: 100% (24/24), done.\u001b[K\n",
            "remote: Compressing objects: 100% (21/21), done.\u001b[K\n",
            "remote: Total 24 (delta 1), reused 0 (delta 0), pack-reused 0\u001b[K\n",
            "Unpacking objects: 100% (24/24), done.\n"
          ],
          "name": "stdout"
        }
      ]
    },
    {
      "cell_type": "code",
      "metadata": {
        "id": "6YqhLveouy8Y"
      },
      "source": [
        "#Global Variable\n",
        "dict_clean_img = {} #BINARY IMAGE DICTIONAY\n",
        "dict_img = {} #ORIGINAL IMAGE DICTIONARY\n",
        "\n",
        "#Keras support channel first (1,28,28) only\n",
        "keras.backend.set_image_data_format(\"channels_first\")\n",
        "\n"
      ],
      "execution_count": 4,
      "outputs": []
    },
    {
      "cell_type": "markdown",
      "metadata": {
        "id": "WTqUJBN8Hw8k"
      },
      "source": [
        "Use this [link](https://drive.google.com/uc?id=1OTeIZTsx8VK3tiEI4VsRpZPsECxz5uVF) to download the model"
      ]
    },
    {
      "cell_type": "code",
      "metadata": {
        "id": "5MLgvrs7Hv7-"
      },
      "source": [
        "#loading models\n",
        "try:\n",
        "    model = keras.models.load_model('/content/Autograder/Model/DCNN_10AD_sy (1).h5', compile=False)\n",
        "\n",
        "except Exception as e:\n",
        "    print('Model couldnot be loaded',e)"
      ],
      "execution_count": 7,
      "outputs": []
    },
    {
      "cell_type": "markdown",
      "metadata": {
        "id": "zC_28_htuYNP"
      },
      "source": [
        "## Defining utils function"
      ]
    },
    {
      "cell_type": "code",
      "metadata": {
        "id": "grV_oAtRnQd2",
        "cellView": "both"
      },
      "source": [
        "#%%\n",
        "def image_resize(image, width = None, height = None, inter = cv2.INTER_LINEAR):\n",
        "    '''\n",
        "    image_resize : Function to resize images\n",
        "    argument:\n",
        "        image (Matrix)  : image to resize\n",
        "        width (Integer) : width of the required image \n",
        "        height (Integer): height of required image\n",
        "        inter (Method)  : Interpolation/Extrapolation method\n",
        "    output:\n",
        "        image (Matrix)  : image resized\n",
        "    '''\n",
        "    dim = None\n",
        "    (h, w) = image.shape[:2]\n",
        "\n",
        "    # if both the width and height are None, then return the\n",
        "    # original image\n",
        "    if width is None and height is None:\n",
        "        return image\n",
        "\n",
        "    # check to see if the width is None\n",
        "    if width is None:\n",
        "        # calculate the ratio of the height and construct the\n",
        "        # dimensions\n",
        "        r = height / float(h)\n",
        "        dim = (int(w * r), height)\n",
        "\n",
        "    # otherwise, the height is None\n",
        "    else:\n",
        "        # calculate the ratio of the width and construct the\n",
        "        # dimensions\n",
        "        r = width / float(w)\n",
        "        dim = (width, int(h * r))\n",
        "\n",
        "    # resize the image\n",
        "    resized = cv2.resize(image, dim, interpolation = inter)\n",
        "\n",
        "    # return the resized image\n",
        "    return resized\n",
        "\n",
        "'''\n",
        "Evaluate New\n",
        "'''\n",
        "# supported operators\n",
        "operators = {ast.Add: op.add, ast.Sub: op.sub, ast.Mult: op.mul,\n",
        "             ast.Div: op.truediv, ast.Pow: op.pow, ast.BitXor: op.xor,\n",
        "             ast.USub: op.neg}\n",
        "\n",
        "def eval_expr(expr):\n",
        "    \"\"\"\n",
        "    >>> eval_expr('2^6')\n",
        "    4\n",
        "    >>> eval_expr('2**6')\n",
        "    64\n",
        "    >>> eval_expr('1 + 2*3**(4^5) / (6 + -7)')\n",
        "    -5.0\n",
        "    \"\"\"\n",
        "    return eval_(ast.parse(expr, mode='eval').body)\n",
        "\n",
        "def eval_(node):\n",
        "    if isinstance(node, ast.Num): # <number>\n",
        "        return node.n\n",
        "    elif isinstance(node, ast.BinOp): # <left> <operator> <right>\n",
        "        return operators[type(node.op)](eval_(node.left), eval_(node.right))\n",
        "    elif isinstance(node, ast.UnaryOp): # <operator> <operand> e.g., -1\n",
        "        return operators[type(node.op)](eval_(node.operand))\n",
        "    else:\n",
        "        raise TypeError(node)\n",
        "\n",
        "'''\n",
        "Workspace Detection\n",
        "'''\n",
        "\n",
        "def sort_contours(cnts, method=\"left-to-right\"):\n",
        "    '''\n",
        "    sort_contours : Function to sort contours\n",
        "    argument:\n",
        "        cnts (array): image contours\n",
        "        method(string) : sorting direction\n",
        "    output:\n",
        "        cnts(list): sorted contours\n",
        "        boundingBoxes(list): bounding boxes\n",
        "    '''\n",
        "    # initialize the reverse flag and sort index\n",
        "    reverse = False\n",
        "    i = 0\n",
        "\n",
        "    # handle if we need to sort in reverse\n",
        "    if method == \"right-to-left\" or method == \"bottom-to-top\":\n",
        "        reverse = True\n",
        "\n",
        "    # handle if we are sorting against the y-coordinate rather than\n",
        "    # the x-coordinate of the bounding box\n",
        "    if method == \"top-to-bottom\" or method == \"bottom-to-top\":\n",
        "        i = 1\n",
        "\n",
        "    # construct the list of bounding boxes and sort them from top to\n",
        "    # bottom\n",
        "    boundingBoxes = [cv2.boundingRect(c) for c in cnts]\n",
        "    (cnts, boundingBoxes) = zip(*sorted(zip(cnts, boundingBoxes),\n",
        "        key=lambda b:b[1][i], reverse=reverse))\n",
        "\n",
        "    # return the list of sorted contours and bounding boxes\n",
        "    return (cnts, boundingBoxes)\n",
        "\n",
        "\n",
        "def getBestShift(img):\n",
        "    '''\n",
        "    getBestShift : Function to calculate centre of mass and get the best shifts\n",
        "    argument:\n",
        "        img (array) : gray scale image\n",
        "    output:\n",
        "        shiftx, shifty: x,y shift direction\n",
        "    '''\n",
        "    cy,cx = ndimage.measurements.center_of_mass(img)\n",
        "    rows,cols = img.shape\n",
        "    shiftx = np.round(cols/2.0-cx).astype(int)\n",
        "    shifty = np.round(rows/2.0-cy).astype(int)\n",
        "\n",
        "    return shiftx,shifty\n",
        "\n",
        "\n",
        "def shift(img,sx,sy):\n",
        "    '''\n",
        "    Shift : Function to shift the image in given direction \n",
        "    argument:\n",
        "        img (array) : gray scale image\n",
        "        sx, sy      : x, y direction\n",
        "    output:\n",
        "        shifted : shifted image\n",
        "    '''\n",
        "    rows,cols = img.shape\n",
        "    M = np.float32([[1,0,sx],[0,1,sy]])\n",
        "    shifted = cv2.warpAffine(img,M,(cols,rows))\n",
        "    return shifted\n",
        "\n",
        "#%%\n",
        "#Data Generator using tensorflow method\n",
        "train_datagen = ImageDataGenerator(   \n",
        "    data_format='channels_first',\n",
        "    zca_whitening = True,\n",
        "    rotation_range = 0.2)\n",
        "#%%\n",
        "def predict(img,x1,y1,x2,y2, proba = False, acc_thresh = 0.60):\n",
        "    '''\n",
        "    predict  : Function to predict the character\n",
        "    argument:\n",
        "        x1,y1(int,int)    : Top left corner point\n",
        "        x2,y2(int,int)    : Bottom right corner point\n",
        "        acc_thresh(0-1)   : Probability threshold for calling model_robusta\n",
        "        proba(bool)       : If probability values is wanted in return\n",
        "    output:\n",
        "        c[index](int) : predicted character \n",
        "    \n",
        "    '''\n",
        "    gray = img[y1:y2, x1:x2]\n",
        "\n",
        "    # Steps to remove noises in image due to cropping\n",
        "    temp = gray.copy()\n",
        "    \n",
        "    kernel_temp = np.ones((3,3), np.uint8) \n",
        "    temp_tmp = cv2.dilate(temp, kernel_temp, iterations=3)\n",
        "    \n",
        "    # Find the contours -  To check whether its disjoint character or noise\n",
        "  \n",
        "    contours_tmp,hierarchy = cv2.findContours(temp_tmp,cv2.RETR_EXTERNAL,cv2.CHAIN_APPROX_SIMPLE)\n",
        "        \n",
        "    if(len(contours_tmp) > 1):\n",
        "        # Find the contours\n",
        "        contours,hierarchy = cv2.findContours(gray,cv2.RETR_EXTERNAL,cv2.CHAIN_APPROX_SIMPLE)\n",
        "        #Creating a mask of only zeros  \n",
        "        mask = np.ones(gray.shape[:2], dtype=\"uint8\") * 0\n",
        "        # Find the index of the largest contour\n",
        "        areas = [cv2.contourArea(c) for c in contours]\n",
        "        max_index = np.argmax(areas)\n",
        "        cnt=contours[max_index]\n",
        "        \n",
        "        cv2.drawContours(mask, [cnt], -1, 255, -1)\n",
        "        #Drawing those contours which are noises and then taking bitwise and\n",
        "        gray = cv2.bitwise_and(temp, temp, mask=mask)\n",
        "        \n",
        "    grayN = process_img (gray, resize_flag = 0)\n",
        "    \n",
        "    classes = model.predict(grayN, batch_size=2)\n",
        "    ind = np.argmax(classes)\n",
        "    c = ['0','1','2','3','4','5','6','7','8','9','+','-','*','(',')']\n",
        "\n",
        "    \n",
        "    if (proba == True):\n",
        "        return classes[0][ind]\n",
        "    \n",
        "    return c[ind]\n",
        "#%%\n",
        "def process_img (gray, resize_flag = 1, preproc = 0):\n",
        "    '''\n",
        "    process_img  : Function to pre process image for prediction\n",
        "    argument:\n",
        "        gray (Matrix (np.uint8))  : image of character to be resized and processed\n",
        "        resize_flag               : method used for resizing image\n",
        "        preproc (method [bool])   : 0 : No erosion DIlation, 1 : Erosion, Dilation\n",
        "    output:\n",
        "        grayS (Matrix (0-1))      : Normalised image of character resized and processed\n",
        "    \n",
        "    '''    \n",
        "    gray = gray.copy()\n",
        "    \n",
        "    #Image Pre Processing\n",
        "    if (preproc == 0):\n",
        "        gray = cv2.GaussianBlur(gray,(7,7),0)\n",
        "    else :\n",
        "        kernel = np.ones((3,3), np.uint8)\n",
        "        gray = cv2.dilate(gray, kernel, iterations=1)    \n",
        "        gray = cv2.GaussianBlur(gray,(5,5),1)\n",
        "        gray = cv2.dilate(gray, kernel, iterations=2)\n",
        "        gray = cv2.erode(gray, kernel,iterations=2)    \n",
        "    \n",
        "    #Removing rows and columns where all the pixels are black\n",
        "    while np.sum(gray[0]) == 0:\n",
        "        gray = gray[1:]\n",
        "\n",
        "    while np.sum(gray[:,0]) == 0:\n",
        "        gray = np.delete(gray,0,1)\n",
        "\n",
        "    while np.sum(gray[-1]) == 0:\n",
        "        gray = gray[:-1]\n",
        "\n",
        "    while np.sum(gray[:,-1]) == 0:\n",
        "        gray = np.delete(gray,-1,1)\n",
        "\n",
        "    rows,cols = gray.shape\n",
        "    \n",
        "    if(resize_flag) == 1:\n",
        "        interpolation=cv2.INTER_AREA\n",
        "    else:\n",
        "        interpolation=cv2.INTER_CUBIC\n",
        "    # Making the aspect ratio same before re-sizing\n",
        "    if rows > cols:\n",
        "        factor = 20.0/rows\n",
        "        rows = 20\n",
        "        cols = int(round(cols*factor))\n",
        "        # first cols than rows\n",
        "        gray = cv2.resize(gray, (cols,rows),interpolation=interpolation)\n",
        "    else:\n",
        "        factor = 20.0/cols\n",
        "        cols = 20\n",
        "        rows = int(round(rows*factor))\n",
        "        # first cols than rows\n",
        "        gray = cv2.resize(gray, (cols, rows),interpolation=interpolation)\n",
        "   \n",
        "    # Padding to a 28 * 28 image\n",
        "    colsPadding = (int(math.ceil((28-cols)/2.0)),int(math.floor((28-cols)/2.0)))\n",
        "    rowsPadding = (int(math.ceil((28-rows)/2.0)),int(math.floor((28-rows)/2.0)))\n",
        "    gray = np.lib.pad(gray,(rowsPadding,colsPadding),'constant')\n",
        "    \n",
        "    # Get the best shifts\n",
        "    shiftx,shifty = getBestShift(gray)\n",
        "    shifted = shift(gray,shiftx,shifty)\n",
        "    grayS = shifted\n",
        "    grayS = grayS.reshape(1,1,28,28)\n",
        "    \n",
        "    #Normalize the image\n",
        "    grayS = grayS/255\n",
        "    \n",
        "    return grayS\n",
        "\n",
        "def extract_box(img, show=True):\n",
        "    '''\n",
        "    Function to extract the boxes in the ruled worksheet\n",
        "    Input : Image with rectangle, show figures\n",
        "    Output : Extract workspaces locations\n",
        "    '''\n",
        "    image_gray = cv2.cvtColor(img, cv2.COLOR_BGR2GRAY)\n",
        "    \n",
        "    #Otsu thresholding\n",
        "    thresh, binary_image = cv2.threshold(image_gray, 0, 255, cv2.THRESH_BINARY_INV+cv2.THRESH_OTSU)\n",
        "    \n",
        "    # Defining a kernel length\n",
        "    kernel_length = np.array(binary_image).shape[1]//80\n",
        "\n",
        "    verticle_kernel = cv2.getStructuringElement(cv2.MORPH_RECT, (1, kernel_length))\n",
        "    hori_kernel = cv2.getStructuringElement(cv2.MORPH_RECT, (kernel_length, 1))\n",
        "    kernel = cv2.getStructuringElement(cv2.MORPH_RECT, (3, 3))\n",
        "    \n",
        "    # Morphological operation to detect vertical lines from an image\n",
        "    img_temp1 = cv2.erode(binary_image, verticle_kernel, iterations=3)\n",
        "    verticle_lines_img = cv2.dilate(img_temp1, verticle_kernel, iterations=3)\n",
        "\n",
        "    # Morphological operation to detect horizontal lines from an image\n",
        "    img_temp2 = cv2.erode(binary_image, hori_kernel, iterations=3)\n",
        "    horizontal_lines_img = cv2.dilate(img_temp2, hori_kernel, iterations=4)\n",
        "    \n",
        "    #Join horizontal and vertical images\n",
        "    alpha = 0.5\n",
        "    beta = 1.0 - alpha\n",
        "    img_final_bin = cv2.addWeighted(verticle_lines_img, alpha, horizontal_lines_img, beta, 0.0)\n",
        "    img_final_bin = cv2.erode(~img_final_bin, kernel, iterations=2)\n",
        "    (thresh, img_final_bin) = cv2.threshold(img_final_bin, 0,255, cv2.THRESH_BINARY_INV+cv2.THRESH_OTSU)\n",
        "    \n",
        "    #Find and sort the contours\n",
        "    if(cv2.__version__ == '3.3.1'): \n",
        "        xyz,contours, hierarchy = cv2.findContours(img_final_bin, cv2.RETR_TREE, cv2.CHAIN_APPROX_SIMPLE)\n",
        "    else:\n",
        "        contours, hierarchy = cv2.findContours(img_final_bin, cv2.RETR_TREE, cv2.CHAIN_APPROX_SIMPLE)\n",
        "        \n",
        "    (contours, boundingBoxes) = sort_contours(contours, method=\"top-to-bottom\")\n",
        "    \n",
        "    area = []\n",
        "    for contour in contours:\n",
        "        area.append(cv2.contourArea(contour))\n",
        "    \n",
        "    s = np.argsort(area) #sorted area\n",
        "    \n",
        "    workspace_contours = []    \n",
        "    #Find the correct boxes where area is between 40% and 50% of the largest rectangle\n",
        "    for i,contour in enumerate(contours):\n",
        "        if cv2.contourArea(contour) >= area[s[-1]]*0.40  and cv2.contourArea(contour) < area[s[-1]]*0.50:\n",
        "            workspace_contours.append(contour)\n",
        "    \n",
        "    #A list to containg rectangle locs\n",
        "    rectangle_locs =[]   \n",
        "    \n",
        "    #finding out locations of rectangle\n",
        "    for cnt in workspace_contours:\n",
        "        x,y,w,h = cv2.boundingRect(cnt)\n",
        "        rectangle_locs.append([x,y,w,h])        \n",
        "    \n",
        "    if (show):\n",
        "        fig = plt.figure(figsize=(7,9))\n",
        "        fig.suptitle('Extracted Workspaces')\n",
        "        i=1\n",
        "        l = len(rectangle_locs)\n",
        "        for rect in rectangle_locs:\n",
        "            ax = fig.add_subplot(l,1,i)\n",
        "            ax.imshow(img[rect[1]:rect[1]+rect[3], rect[0]:rect[0]+rect[2]])\n",
        "            i = i+1\n",
        "        plt.show()\n",
        "        \n",
        "    return rectangle_locs\n",
        "\n",
        "'''\n",
        "Line Detection\n",
        "'''\n",
        "\n",
        "def find_good_contours_thres(conts, alpha = 0.002):\n",
        "    '''\n",
        "    Function to find threshold of good contours on basis of 10% of maximum area\n",
        "    Input: Contours, threshold for removing noises\n",
        "    Output: Contour area threshold\n",
        "    \n",
        "    For image dim 3307*4676\n",
        "    alpha(text_segment) = 0.01\n",
        "    alpha(extract_line) = 0.002\n",
        "    '''\n",
        "    #Calculating areas of contours and appending them to a list\n",
        "    areas = []\n",
        "    \n",
        "    for c in conts:\n",
        "        areas.append([cv2.contourArea(c)**2])\n",
        "    #alpha is controlling paramter    \n",
        "    thres = alpha * max(areas)[0]\n",
        "    \n",
        "    return thres\n",
        "\n",
        "def extract_line(image, beta=0.7, alpha=0.002, show = True):\n",
        "    '''\n",
        "    Function to extracts the line from the image   \n",
        "    Assumption : Sufficient gap b/w lines\n",
        "    \n",
        "    argument:\n",
        "        img (array): image array\n",
        "        beta (0-1) : Parameter to differentiate line\n",
        "        alpha (0-1) : Parameter to select good contours\n",
        "        show(bool) : to show figures or not\n",
        "    output:\n",
        "        uppers[diff_index]  : Upper points (x,y)\n",
        "        lowers[diff_index]  : lower points(x,y)\n",
        "    '''\n",
        "    img = image.copy()\n",
        "    H,W = img.shape[:2]\n",
        "    h5 = int(.02 * H)\n",
        "    w5 = int(.02 * W)\n",
        "    img[:h5,:] = [255,255,255]\n",
        "    img[-h5:,:] = [255,255,255]\n",
        "    img[:,:w5] = [255,255,255]\n",
        "    img[:,-w5:] = [255,255,255]\n",
        "    \n",
        "    #Converting image to gray\n",
        "    gray = cv2.cvtColor(img, cv2.COLOR_BGR2GRAY)\n",
        "    \n",
        "    #Binary thresholding and inverting at 127\n",
        "    th, threshed = cv2.threshold(gray, 127, 255, cv2.THRESH_BINARY_INV|cv2.THRESH_OTSU)\n",
        "    \n",
        "    #Selecting elliptical element for dilation    \n",
        "    kernel = cv2.getStructuringElement(cv2.MORPH_ELLIPSE,(3,3))\n",
        "    dilation = cv2.dilate(threshed,kernel,iterations = 1)\n",
        "    \n",
        "    #Saving a copy of dilated image for taking bitwise_and operation\n",
        "    temp = dilation.copy()\n",
        "    \n",
        "    # Find the contours\n",
        "    if(cv2.__version__ == '3.3.1'): \n",
        "        xyz,contours,hierarchy = cv2.findContours(dilation,cv2.RETR_EXTERNAL,cv2.CHAIN_APPROX_SIMPLE)\n",
        "    else:\n",
        "        contours,hierarchy = cv2.findContours(dilation,cv2.RETR_EXTERNAL,cv2.CHAIN_APPROX_SIMPLE)\n",
        "        \n",
        "    cont_thresh = find_good_contours_thres(contours, alpha=alpha)\n",
        "\n",
        "    #Creating a mask of only ones    \n",
        "    mask = np.ones(dilation.shape[:2], dtype=\"uint8\") * 255\n",
        "\n",
        "    #Drawing those contours which are noises and then taking bitwise and\n",
        "    for c in contours:\n",
        "        if( cv2.contourArea(c)**2 < cont_thresh):\n",
        "            cv2.drawContours(mask, [c], -1, 0, -1)\n",
        "    \n",
        "    cleaned_img = cv2.bitwise_and(temp, temp, mask=mask)\n",
        "    \n",
        "    #Dilating the cleaned image for better detection of line in cases where\n",
        "    #exponents are little up the line\n",
        "    kernel = cv2.getStructuringElement(cv2.MORPH_ELLIPSE,(3,3))\n",
        "    dil_cleaned_img = cv2.dilate(cleaned_img,kernel,iterations = 10)\n",
        "    \n",
        "    #Getting back the cleaned original image without noise\n",
        "    cleaned_orig = cv2.erode(cleaned_img, kernel, iterations=1) \n",
        "    \n",
        "    ##find and draw the upper and lower boundary of each lines\n",
        "    hist = cv2.reduce(dil_cleaned_img,1, cv2.REDUCE_AVG).reshape(-1)\n",
        "    \n",
        "    th = 1\n",
        "    H,W = img.shape[:2]\n",
        "    uppers = np.array([y for y in range(H-1) if hist[y]<=th and hist[y+1]>th])\n",
        "    lowers = np.array([y for y in range(H-1) if hist[y]>th and hist[y+1]<=th])\n",
        "    \n",
        "    diff_1 = np.array([j-i for i,j in zip(uppers,lowers)])\n",
        "    diff_index_1 = np.array([True if j > beta*(np.mean(diff_1)-np.std(diff_1)) else False for j in diff_1 ])\n",
        "    \n",
        "    uppers = uppers[diff_index_1]\n",
        "    lowers = lowers[diff_index_1]\n",
        "    \n",
        "    #Extending uppers and lowers indexes to avoid cutting of chars of lines\n",
        "    #Extended more uppers by 33% as exponential might lie above \n",
        "    uppers[1:] = [i-int(j)/3 for i,j in zip(uppers[1:], diff_1[1:])]\n",
        "    lowers[:-1] = [i+int(j)/4 for i,j in zip(lowers[:-1], diff_1[:-1])]\n",
        "    \n",
        "    diff_2 = np.array([j-i for i,j in zip(uppers,lowers)])\n",
        "    diff_index_2 = np.array([True]*len(uppers))\n",
        "    \n",
        "    #Combining rogue exponentials into their deserving lines. This happens when\n",
        "    #exponential and lines are separated by some distance\n",
        "    for i,diff in enumerate(diff_2):\n",
        "        if(i>0):\n",
        "            if( (diff_2[i-1] < (diff/2)) and (( lowers[i-1]-uppers[i]) > ((lowers[i-1]-uppers[i-1])/5)) ):\n",
        "                uppers[i] = uppers[i-1]\n",
        "                diff_2[i] = diff_2[i]+diff_2[i-1]\n",
        "                diff_index_2[i-1] = False\n",
        "                print('Merging')\n",
        "\n",
        "    diff_index = diff_index_2\n",
        "    \n",
        "    cleaned_orig_rec = cv2.cvtColor(cleaned_orig, cv2.COLOR_GRAY2BGR)\n",
        "    \n",
        "    #For changing color of intermediate lines, keeping count\n",
        "    col_ct = 0\n",
        "    \n",
        "    for left,right in zip(uppers[diff_index], lowers[diff_index]):\n",
        "        #print(left,right)\n",
        "        col1 = (153,255,255)\n",
        "        col2 = (255,255,153)\n",
        "        if(col_ct % 2 == 0):\n",
        "            col= col1\n",
        "        else: \n",
        "            col=col2\n",
        "        cv2.rectangle(cleaned_orig_rec ,(0+10,left),(W-15,right),col,4)\n",
        "        col_ct += 1\n",
        "        \n",
        "    if(show == True):\n",
        "        fig0 = plt.figure(figsize=(15,5))\n",
        "        ax1 = fig0.add_subplot(1,3,1)\n",
        "        ax1.set_title('Original Image')\n",
        "        ax1.imshow(img)\n",
        "        ax1.axis('off')\n",
        "        \n",
        "        ax2 = fig0.add_subplot(1,3,2)\n",
        "        ax2.set_title('Cleaned Image')\n",
        "        ax2.imshow(cv2.cvtColor(cleaned_img, cv2.COLOR_GRAY2RGB))\n",
        "        ax2.axis('off')\n",
        "        \n",
        "        ax3 = fig0.add_subplot(1,3,3)\n",
        "        ax3.set_title('Noises')\n",
        "        ax3.imshow(cv2.cvtColor(mask, cv2.COLOR_BGR2RGB))\n",
        "        ax3.axis('off')\n",
        "        \n",
        "        fig0.suptitle('Denoising')\n",
        "        plt.show()\n",
        "    \n",
        "        fig1 = plt.figure(figsize=(15,5))\n",
        "        fig1.suptitle('Line Detection')\n",
        "        ax1 = fig1.add_subplot(1,2,1)\n",
        "        ax1.axis(\"off\")\n",
        "        ax1.imshow(cv2.cvtColor(cleaned_orig,cv2.COLOR_BGR2RGB))\n",
        "        \n",
        "        ax2 = fig1.add_subplot(1,2,2)    \n",
        "        ax2.axis(\"off\")\n",
        "        ax2.imshow(cv2.cvtColor(cleaned_orig_rec, cv2.COLOR_BGR2RGB))\n",
        "        \n",
        "        plt.show()\n",
        "    \n",
        "    return cleaned_orig, uppers[diff_index], lowers[diff_index]\n",
        "\n",
        "\n",
        "def evaluate(df,A,B,X,Y):\n",
        "    '''Function to evaluate mathematical equation and give bool output\n",
        "    Input: Dataframe\n",
        "           Values\n",
        "    Output:\n",
        "        Boolean T/F\n",
        "    '''\n",
        "    #Evaluating Expression\n",
        "    actual = A*X*X+(B*Y)\n",
        "    \n",
        "    try:#If BODMAS is correct and Mathematically equation is correct\n",
        "        pred = df[\"exp\"].apply(lambda d: \"**\" if d==1 else \"\")\n",
        "        pred = \"\".join(list(pred+df[\"pred\"]))\n",
        "        \n",
        "        #looking for non digits in the start of the string for \n",
        "        #ignoring equal to's\n",
        "        matchesN = re.findall('^\\-\\-', pred)\n",
        "        if(len(matchesN) > 0):\n",
        "            for s in matchesN:\n",
        "                pred = pred.replace(s,'')       \n",
        "                \n",
        "            \n",
        "        #looking for broken 5's\n",
        "        matches5 = re.findall(r'5\\*\\*-\\D*', pred)\n",
        "        if(len(matches5) > 0):\n",
        "            for s in matches5:\n",
        "                sn = s.split('5**-')\n",
        "                snew = sn[0]+'5'+sn[1]\n",
        "                pred = pred.replace(s,snew)  \n",
        "\n",
        "        \n",
        "        #This except block is fired when brackets are un necessarily used \n",
        "        #while writing the answerscripts and in strings\n",
        "        matchesB_left = re.findall(r'\\d\\(\\d', pred)\n",
        "        matchesB_right = re.findall(r'\\d\\)\\d', pred)\n",
        "        \n",
        "        if(len(matchesB_left) > 0 or len(matchesB_right) > 0):\n",
        "            for s in matchesB_left:\n",
        "                sn = s.split('(')\n",
        "                snew = sn[0]+'*('+sn[1]\n",
        "                pred = pred.replace(s,snew)    \n",
        "                \n",
        "            for s in matchesB_right:\n",
        "                sn = s.split(')')\n",
        "                snew = sn[0]+')*'+sn[1]\n",
        "                pred = pred.replace(s,snew) \n",
        "        \n",
        "        ans = eval_expr(pred)\n",
        "        print(pred )\n",
        "#        if(ans == actual):\n",
        "#            val='Correct'\n",
        "#        else:\n",
        "#            val='Wrong'\n",
        "#        print(ans, actual, val)\n",
        "        if(df['pred_proba'].mean() < 0.75):\n",
        "            return 5\n",
        "        \n",
        "    except Exception as e:\n",
        "        print(pred,'-',e)\n",
        "        return 5\n",
        "    \n",
        "    return actual==ans\n",
        "\t\n",
        "def draw_contour(image, c, i):\n",
        "\t# compute the center of the contour area and draw a circle\n",
        "\t# representing the center\n",
        "\tM = cv2.moments(c)\n",
        "\tcX = int(M[\"m10\"] / M[\"m00\"])\n",
        "\tcY = int(M[\"m01\"] / M[\"m00\"])\n",
        " \n",
        "\t# draw the countour number on the image\n",
        "\tcv2.putText(image, \"#{}\".format(i + 1), (cX - 20, cY), cv2.FONT_HERSHEY_SIMPLEX,\n",
        "\t\t1.0, (255, 255, 255), 2)\n",
        " \n",
        "\t# return the image with the contour number drawn on it\n",
        "\treturn image\n",
        "\n",
        "def text_segment(Y1,Y2,X1,X2,box_num,line_name, dict_clean = dict_clean_img,\\\n",
        "                 acc_thresh = 0.60, show = True):\n",
        "    '''\n",
        "    text_segment : Function to segment the characters\n",
        "    Input:\n",
        "        Box coordinates -X1,Y1,X2,Y2\n",
        "        box_num - name of box\n",
        "        line_name - name of line\n",
        "        model - Deep Learning model to be used for prediction\n",
        "        dict_clean - dictionary of clean box images\n",
        "    Output :\n",
        "        box_num - name of box\n",
        "        line_name -name of line\n",
        "        df_char - Dataframe of characters of that particular line\n",
        "    '''\n",
        "    img = dict_clean[box_num][Y1:Y2,X1:X2].copy()\n",
        "    L_H = Y2-Y1\n",
        "    ## apply some dilation and erosion to join the gaps\n",
        "    #Selecting elliptical element for dilation    \n",
        "    kernel = cv2.getStructuringElement(cv2.MORPH_ELLIPSE,(3,3))\n",
        "    dilation = cv2.dilate(img,kernel,iterations = 2)\n",
        "    erosion = cv2.erode(dilation,kernel,iterations = 1)\n",
        "    \n",
        "    # Find the contours\n",
        "    if(cv2.__version__ == '3.3.1'):\n",
        "        xyz,contours,hierarchy = cv2.findContours(erosion,cv2.RETR_EXTERNAL,cv2.CHAIN_APPROX_SIMPLE)\n",
        "    else:\n",
        "        contours,hierarchy = cv2.findContours(erosion,cv2.RETR_EXTERNAL,cv2.CHAIN_APPROX_SIMPLE)\n",
        "        \n",
        "    ct_th = find_good_contours_thres(contours, alpha=0.005)\n",
        "    cnts = []\n",
        "    for c in contours:       \n",
        "        if( cv2.contourArea(c)**2 > ct_th):\n",
        "            cnts.append(c)\n",
        "    contours_sorted,bounding_boxes = sort_contours(cnts,method=\"left-to-right\")\n",
        "    char_locs = []\n",
        "    \n",
        "    img = cv2.cvtColor(img, cv2.COLOR_GRAY2BGR)\n",
        "    \n",
        "    i = 0\n",
        "    char_type =[]\n",
        "    while i in range(0, len(contours_sorted)):\n",
        "            x,y,w,h = bounding_boxes[i]\n",
        "            exp = 0\n",
        "            if i+1 != len(contours_sorted):\n",
        "                x1,y1,w1,h1 = bounding_boxes[i+1]\n",
        "                if abs(x-x1) < 10 and  (h1+h) < 70:\n",
        "                    #print(h+h1)\n",
        "                    minX = min(x,x1)\n",
        "                    minY = min(y,y1)\n",
        "                    maxX = max(x+w, x1+w1)\n",
        "                    maxY = max(y+h, y1+h1)\n",
        "                    x,y,x11,y11 = minX, minY, maxX, maxY\n",
        "                    \n",
        "                    x,y,w,h = x,y,x11-x,y11-y\n",
        "                    i = i+2\n",
        "                    continue\n",
        "            \n",
        "            #char_locs.append([x,y,x+w,y+h])     \n",
        "            if(h<0.10*L_H and w<0.10*L_H):\n",
        "                #print('Yes')\n",
        "                i=i+1\n",
        "                continue\n",
        "\n",
        "            char_locs.append([x-2,y+Y1-2,x+w+1,y+h+Y1+1,w*h]) #Normalised location of char w.r.t box image\n",
        "            \n",
        "            cv2.rectangle(img,(x,y),(x+w,y+h),(153,180,255),2)\n",
        "\n",
        "            if i!=0:\n",
        "                if y+h < (L_H*(1/2)) and y < bounding_boxes[i-1][1] and h < bounding_boxes[i-1][3]:\n",
        "                    exp = 1\n",
        "                    cv2.rectangle(img,(x,y),(x+w,y+h),(0,255,0),2)\n",
        "            i = i+1\n",
        "            char_type.append(exp)\n",
        "             \n",
        "    \n",
        "\n",
        "    df_char = pd.DataFrame(char_locs)\n",
        "    df_char.columns=['X1','Y1','X2','Y2','area']\n",
        "    df_char['exp'] = char_type\n",
        "    df_char['pred'] = df_char.apply(lambda c: predict(dict_clean[box_num],c['X1'],\\\n",
        "           c['Y1'],c['X2'], c['Y2'], acc_thresh=acc_thresh), axis=1 )\n",
        "    df_char['pred_proba'] = df_char.apply(lambda c: predict(dict_clean[box_num],c['X1'],\\\n",
        "           c['Y1'],c['X2'], c['Y2'], proba=True, acc_thresh=acc_thresh), axis=1 )\n",
        "    df_char.apply(lambda c: cv2.putText(img, c['pred'], (c['X1']-10,35), cv2.FONT_HERSHEY_SIMPLEX,  \n",
        "                   1.5,(147,96,247), 3, cv2.LINE_AA), axis=1) \n",
        "    df_char['line_name'] = line_name\n",
        "    df_char['box_num'] = box_num\n",
        "\n",
        "    if(show == True):        \n",
        "        plt.figure(figsize=(15,8))   \n",
        "\n",
        "        plt.axis(\"on\")\n",
        "        plt.imshow(cv2.cvtColor(img, cv2.COLOR_BGR2RGB))\n",
        "        plt.show()\n",
        "    \t  \n",
        "    return [box_num,line_name,df_char]\n"
      ],
      "execution_count": 8,
      "outputs": []
    },
    {
      "cell_type": "markdown",
      "metadata": {
        "id": "vtMqmIlvdmnZ"
      },
      "source": [
        "## Read the Image"
      ]
    },
    {
      "cell_type": "code",
      "metadata": {
        "id": "6eR3OnpBWpOx",
        "colab": {
          "base_uri": "https://localhost:8080/",
          "height": 721
        },
        "outputId": "cbf91d0a-748e-4a4d-de1a-64c6a744041a"
      },
      "source": [
        "image_path = \"/content/Autograder/Images/image_1.jpg\"\n",
        "A = 2\n",
        "B = 2\n",
        "X = 98\n",
        "Y = 3\n",
        "\n",
        "img = cv2.imread(image_path)\n",
        "plt.figure(figsize=(12,12))\n",
        "plt.imshow(img)\n"
      ],
      "execution_count": 9,
      "outputs": [
        {
          "output_type": "execute_result",
          "data": {
            "text/plain": [
              "<matplotlib.image.AxesImage at 0x7faea0166210>"
            ]
          },
          "metadata": {
            "tags": []
          },
          "execution_count": 9
        },
        {
          "output_type": "display_data",
          "data": {
            "image/png": "[encoded data removed]",
            "text/plain": [
              "<Figure size 864x864 with 1 Axes>"
            ]
          },
          "metadata": {
            "tags": [],
            "needs_background": "light"
          }
        }
      ]
    },
    {
      "cell_type": "markdown",
      "metadata": {
        "id": "scLQMmPQd9xm"
      },
      "source": [
        "# Extracting WorkSpaces\n",
        "## Logic Used:\n",
        "### 1. Using area based rule to pinpoint the actual boxes inspite of many rectangles present in the worksheet"
      ]
    },
    {
      "cell_type": "code",
      "metadata": {
        "id": "jG6YTj07dyXV",
        "colab": {
          "base_uri": "https://localhost:8080/",
          "height": 602
        },
        "outputId": "008f16f6-40a8-4719-f7d0-4f8532d3c72a"
      },
      "source": [
        "#Workspaces Detection\n",
        "workspaces = extract_box(img)"
      ],
      "execution_count": 10,
      "outputs": [
        {
          "output_type": "display_data",
          "data": {
            "image/png": "[encoded data removed]",
            "text/plain": [
              "<Figure size 504x648 with 3 Axes>"
            ]
          },
          "metadata": {
            "tags": [],
            "needs_background": "light"
          }
        }
      ]
    },
    {
      "cell_type": "markdown",
      "metadata": {
        "id": "YjmuyKoyK-IG"
      },
      "source": [
        "## Line Detection\n",
        "\n",
        "### Logic Used: For Line Localisation\n",
        "\n",
        "![Array Differentiation](data\\line_det.png)\n",
        "\n",
        "Assumptions :\n",
        "1) Sufficient gap between lines is required\n",
        "2) There should be atleast some intersection between exponential character and line"
      ]
    },
    {
      "cell_type": "code",
      "metadata": {
        "id": "gXPI9PjiW1Yu",
        "colab": {
          "base_uri": "https://localhost:8080/",
          "height": 1000
        },
        "outputId": "01ef6cc3-9a35-487f-d5f0-aa1558051788"
      },
      "source": [
        "#Defining dataframe for storing infos about every line detected\n",
        "df_lines = pd.DataFrame()\n",
        "\n",
        "for r,rect in enumerate(workspaces):\n",
        "    #Cropping boxes for sending to line detection module\n",
        "    box = img[rect[1]:rect[1]+rect[3], rect[0]:rect[0]+rect[2]]\n",
        "    H,W = box.shape[:2]\n",
        "    #Extracting lines present in the boxes\n",
        "    cleaned_orig,y1s,y2s = extract_line(box, show=True)\n",
        "    x1s = [0]*len(y1s)\n",
        "    x2s = [W]*len(y1s)\n",
        "    \n",
        "#        if(len(y1s)-len(y2s) == 0):\n",
        "#            print('Lines in workspace-%d : %d' %(r, len(y1s)))\n",
        "    \n",
        "    df = pd.DataFrame([y1s,y2s,x1s,x2s]).transpose()\n",
        "    df.columns = ['y1','y2','x1','x2']\n",
        "    df['box_num'] = r\n",
        "\n",
        "    df_lines= pd.concat([df_lines, df])\n",
        "\n",
        "    dict_clean_img.update({r:cleaned_orig})\n",
        "    dict_img.update({r:box})\n",
        "    \n",
        "    #print(df)\n",
        "\n",
        "df_lines['line_name'] = ['%d%d' %(df_lines.box_num.iloc[i],df_lines.index[i]) \\\n",
        "        for i in range(len(df_lines))]\n",
        "    \n",
        "    "
      ],
      "execution_count": 11,
      "outputs": [
        {
          "output_type": "display_data",
          "data": {
            "image/png": "[encoded data removed]",
            "text/plain": [
              "<Figure size 1080x360 with 3 Axes>"
            ]
          },
          "metadata": {
            "tags": [],
            "needs_background": "light"
          }
        },
        {
          "output_type": "display_data",
          "data": {
            "image/png": "[encoded data removed]",
            "text/plain": [
              "<Figure size 1080x360 with 2 Axes>"
            ]
          },
          "metadata": {
            "tags": [],
            "needs_background": "light"
          }
        },
        {
          "output_type": "display_data",
          "data": {
            "image/png": "[encoded data removed]",
            "text/plain": [
              "<Figure size 1080x360 with 3 Axes>"
            ]
          },
          "metadata": {
            "tags": [],
            "needs_background": "light"
          }
        },
        {
          "output_type": "display_data",
          "data": {
            "image/png": "[encoded data removed]",
            "text/plain": [
              "<Figure size 1080x360 with 2 Axes>"
            ]
          },
          "metadata": {
            "tags": [],
            "needs_background": "light"
          }
        },
        {
          "output_type": "display_data",
          "data": {
            "image/png": "[encoded data removed]",
            "text/plain": [
              "<Figure size 1080x360 with 3 Axes>"
            ]
          },
          "metadata": {
            "tags": [],
            "needs_background": "light"
          }
        },
        {
          "output_type": "display_data",
          "data": {
            "image/png": "[encoded data removed]",
            "text/plain": [
              "<Figure size 1080x360 with 2 Axes>"
            ]
          },
          "metadata": {
            "tags": [],
            "needs_background": "light"
          }
        }
      ]
    },
    {
      "cell_type": "markdown",
      "metadata": {
        "id": "PUmIBUjRZXfS"
      },
      "source": [
        "## Character segmentation \n",
        "\n",
        "\n",
        "### Exponential detection\n",
        "\n",
        "\n",
        "> Any character whose bottom right corner point lies above the centre of the image is considered as exponents\n",
        "![alt text](https://drive.google.com/uc?id=1LR9knGpjhXxEXZVi4_QsbAumswWP75K8)\n",
        "\n",
        "### Character detection\n",
        "\n",
        "\n",
        "> Used deep columnar convolutional neural network architecture. Trained on more than 50,000 images of 15 classes (digits and symbols)\n",
        "\n",
        "### Output\n",
        "\n",
        "\n",
        "> Exponents are in green bounding boxes, Pink text represents predictions\n",
        "\n",
        "\n",
        "\n",
        "\n",
        "\n",
        "\n",
        "\n",
        "\n",
        "\n",
        "\n",
        "\n",
        "\n",
        "\n",
        "\n",
        "\n",
        "\n",
        "\n",
        "\n",
        "\n",
        "\n",
        "\n",
        "\n"
      ]
    },
    {
      "cell_type": "code",
      "metadata": {
        "id": "T35OrxIOKfJ7",
        "colab": {
          "base_uri": "https://localhost:8080/",
          "height": 929
        },
        "outputId": "c879881c-2adf-47bb-bee9-5197437c6e7f"
      },
      "source": [
        "#df_chars contains locations of all characters along with box_num and line name\n",
        "list_chars = list(df_lines.apply(lambda row: text_segment(row['y1'],row['y2'],\\\n",
        "                 row['x1'],row['x2'], row['box_num'],row['line_name'], \\\n",
        "                 show=True), axis=1))\n",
        "    \n"
      ],
      "execution_count": 12,
      "outputs": [
        {
          "output_type": "display_data",
          "data": {
            "image/png": "[encoded data removed]",
            "text/plain": [
              "<Figure size 1080x576 with 1 Axes>"
            ]
          },
          "metadata": {
            "tags": [],
            "needs_background": "light"
          }
        },
        {
          "output_type": "display_data",
          "data": {
            "image/png": "[encoded data removed]",
            "text/plain": [
              "<Figure size 1080x576 with 1 Axes>"
            ]
          },
          "metadata": {
            "tags": [],
            "needs_background": "light"
          }
        },
        {
          "output_type": "display_data",
          "data": {
            "image/png": "[encoded data removed]",
            "text/plain": [
              "<Figure size 1080x576 with 1 Axes>"
            ]
          },
          "metadata": {
            "tags": [],
            "needs_background": "light"
          }
        },
        {
          "output_type": "display_data",
          "data": {
            "image/png": "[encoded data removed]",
            "text/plain": [
              "<Figure size 1080x576 with 1 Axes>"
            ]
          },
          "metadata": {
            "tags": [],
            "needs_background": "light"
          }
        },
        {
          "output_type": "display_data",
          "data": {
            "image/png": "[encoded data removed]",
            "text/plain": [
              "<Figure size 1080x576 with 1 Axes>"
            ]
          },
          "metadata": {
            "tags": [],
            "needs_background": "light"
          }
        },
        {
          "output_type": "display_data",
          "data": {
            "image/png": "[encoded data removed]",
            "text/plain": [
              "<Figure size 1080x576 with 1 Axes>"
            ]
          },
          "metadata": {
            "tags": [],
            "needs_background": "light"
          }
        },
        {
          "output_type": "display_data",
          "data": {
            "image/png": "[encoded data removed]",
            "text/plain": [
              "<Figure size 1080x576 with 1 Axes>"
            ]
          },
          "metadata": {
            "tags": [],
            "needs_background": "light"
          }
        },
        {
          "output_type": "display_data",
          "data": {
            "image/png": "[encoded data removed]",
            "text/plain": [
              "<Figure size 1080x576 with 1 Axes>"
            ]
          },
          "metadata": {
            "tags": [],
            "needs_background": "light"
          }
        },
        {
          "output_type": "display_data",
          "data": {
            "image/png": "[encoded data removed]",
            "text/plain": [
              "<Figure size 1080x576 with 1 Axes>"
            ]
          },
          "metadata": {
            "tags": [],
            "needs_background": "light"
          }
        },
        {
          "output_type": "display_data",
          "data": {
            "image/png": "[encoded data removed]",
            "text/plain": [
              "<Figure size 1080x576 with 1 Axes>"
            ]
          },
          "metadata": {
            "tags": [],
            "needs_background": "light"
          }
        },
        {
          "output_type": "display_data",
          "data": {
            "image/png": "[encoded data removed]",
            "text/plain": [
              "<Figure size 1080x576 with 1 Axes>"
            ]
          },
          "metadata": {
            "tags": [],
            "needs_background": "light"
          }
        }
      ]
    },
    {
      "cell_type": "markdown",
      "metadata": {
        "id": "K81QMHqKfrNy"
      },
      "source": [
        "## Evaluation\n",
        "\n",
        "### Algebraic equation : A*X<sup>2</sup> + B*Y\n",
        "> Red Bounding Box - Incorrect answer\n",
        "\n",
        "> Green Bounding Box - Correcr answer\n",
        "\n",
        "> Blue Bounding Box - Undetermined (Needs manual evaluation)\n",
        "\n",
        "\n",
        "\n",
        "\n",
        "\n"
      ]
    },
    {
      "cell_type": "code",
      "metadata": {
        "id": "6nxgdxsaX07S",
        "colab": {
          "base_uri": "https://localhost:8080/",
          "height": 1000
        },
        "outputId": "51cd21ef-fa54-4fcb-84a5-2fb831fe54d4"
      },
      "source": [
        "df_chars = pd.DataFrame(list_chars)\n",
        "df_chars.columns = ['box_num', 'line_name', 'char_df']\n",
        "    \n",
        "box_nums = df_chars.box_num.unique()\n",
        "char_area_list = []\n",
        "df_chars['char_df'].apply(lambda d: char_area_list.append(list(d['area'])) )\n",
        "\n",
        "#Area based threshold for detecting and removing noises\n",
        "gamma = 0\n",
        "max_ar = max([max(i) for i in char_area_list])\n",
        "ar_thresh = max_ar*gamma\n",
        "\n",
        "#Keeping only those characters whose area of contours is above area threshold\n",
        "df_chars['char_df'] = df_chars['char_df'].apply(lambda d: d[d.area > ar_thresh] )\n",
        "\n",
        "for bn in box_nums:\n",
        "    print('BOX %d' %(bn+1))\n",
        "    box_img = dict_clean_img[bn] #For Processing B/W image\n",
        "    box_img_1 = dict_img[bn] #For saving results\n",
        "    box_img = cv2.cvtColor(box_img, cv2.COLOR_GRAY2BGR)\n",
        "    \n",
        "    df = df_chars[df_chars.box_num == bn].copy()\n",
        "    df_l = df_lines[df_lines[\"box_num\"]==bn].copy() #Defining dF with line info\n",
        "    \n",
        "    df['char_df'].apply(lambda d: d.apply(lambda c: cv2.rectangle(box_img, \\\n",
        "      (c['X1'],c['Y1']),(c['X2'], c['Y2']),(255*(c['exp']==1),180,0),2+(2*c['exp'])), axis=1 ) )\n",
        "    \n",
        "    df['line_status'] = df['char_df'].apply(lambda d: evaluate(d[[\"pred\",\"exp\",\"pred_proba\"]],A,B,X,Y))\n",
        "    \n",
        "    scale_percent = 200 # percent of original size\n",
        "    width = int(box_img.shape[1] * scale_percent / 100)\n",
        "    height = int(box_img.shape[0] * scale_percent / 100)\n",
        "    dim = (width, height)    \n",
        "    box_img = cv2.resize(box_img, dim, interpolation = cv2.INTER_AREA)\n",
        "\n",
        "    #Drawing rectangle on original Image\n",
        "    df_l['line_status'] = list(df['line_status']) \n",
        "    df_l.apply(lambda c: cv2.rectangle(box_img_1, (c['x1'],c['y1']),(c['x2'],\\\n",
        "      c['y2']),(255*(c['line_status']==5),255*(c['line_status']==True),\\\n",
        "                                255*(c['line_status']==False)),2), axis=1)\n",
        "    \n",
        "    plt.figure(figsize=(13,7))\n",
        "    plt.title('Box - %d' %(bn+1) )\n",
        "    plt.imshow(cv2.cvtColor(box_img_1, cv2.COLOR_BGR2RGB))\n",
        "    plt.figure()\n",
        "\n"
      ],
      "execution_count": 13,
      "outputs": [
        {
          "output_type": "stream",
          "text": [
            "BOX 1\n",
            "2*98**2+2*3\n",
            "19208+6\n",
            "19214\n",
            "BOX 2\n",
            "2*98**2+2*3\n",
            "2*9604+6\n",
            "19208+6\n",
            "19212\n",
            "BOX 3\n",
            "2*98**2+2*3\n",
            "2*9609+6\n",
            "19218+6\n",
            "19212\n"
          ],
          "name": "stdout"
        },
        {
          "output_type": "display_data",
          "data": {
            "image/png": "[encoded data removed]",
            "text/plain": [
              "<Figure size 936x504 with 1 Axes>"
            ]
          },
          "metadata": {
            "tags": [],
            "needs_background": "light"
          }
        },
        {
          "output_type": "display_data",
          "data": {
            "text/plain": [
              "<Figure size 432x288 with 0 Axes>"
            ]
          },
          "metadata": {
            "tags": []
          }
        },
        {
          "output_type": "display_data",
          "data": {
            "image/png": "[encoded data removed]",
            "text/plain": [
              "<Figure size 936x504 with 1 Axes>"
            ]
          },
          "metadata": {
            "tags": [],
            "needs_background": "light"
          }
        },
        {
          "output_type": "display_data",
          "data": {
            "text/plain": [
              "<Figure size 432x288 with 0 Axes>"
            ]
          },
          "metadata": {
            "tags": []
          }
        },
        {
          "output_type": "display_data",
          "data": {
            "image/png": "[encoded data removed]",
            "text/plain": [
              "<Figure size 936x504 with 1 Axes>"
            ]
          },
          "metadata": {
            "tags": [],
            "needs_background": "light"
          }
        },
        {
          "output_type": "display_data",
          "data": {
            "text/plain": [
              "<Figure size 432x288 with 0 Axes>"
            ]
          },
          "metadata": {
            "tags": []
          }
        }
      ]
    },
    {
      "cell_type": "code",
      "metadata": {
        "id": "a9G4Tb2JzeWL",
        "colab": {
          "base_uri": "https://localhost:8080/",
          "height": 491
        },
        "outputId": "db21dd85-50b7-43d8-8ea6-e9e62d02dc0c"
      },
      "source": [
        "    print('BOX 1')\n",
        "    box_img_one = dict_clean_img[0] #For Processing B/W image\n",
        "    box_img_1 = dict_img[0] #For saving results\n",
        "    box_img_one = cv2.cvtColor(box_img_one, cv2.COLOR_GRAY2BGR)\n",
        "    \n",
        "    df = df_chars[df_chars.box_num == 0].copy()\n",
        "    df_l = df_lines[df_lines[\"box_num\"]==0].copy() #Defining dF with line info\n",
        "    \n",
        "    df['char_df'].apply(lambda d: d.apply(lambda c: cv2.rectangle(box_img_one, \\\n",
        "      (c['X1'],c['Y1']),(c['X2'], c['Y2']),(255*(c['exp']==1),180,0),2+(2*c['exp'])), axis=1 ) )\n",
        "    \n",
        "    df['line_status'] = df['char_df'].apply(lambda d: evaluate(d[[\"pred\",\"exp\",\"pred_proba\"]],A,B,X,Y))\n",
        "    \n",
        "    scale_percent = 200 # percent of original size\n",
        "    width = int(box_img_one.shape[0] * scale_percent / 100)\n",
        "    height = int(box_img_one.shape[0] * scale_percent / 100)\n",
        "    dim = (width, height)    \n",
        "    box_img_one = cv2.resize(box_img_one, dim, interpolation = cv2.INTER_AREA)\n",
        "\n",
        "    #Drawing rectangle on original Image\n",
        "    df_l['line_status'] = list(df['line_status']) \n",
        "    df_l.apply(lambda c: cv2.rectangle(box_img_1, (c['x1'],c['y1']),(c['x2'],\\\n",
        "      c['y2']),(255*(c['line_status']==5),255*(c['line_status']==True),\\\n",
        "                                255*(c['line_status']==False)),2), axis=1)\n",
        "    \n",
        "    plt.figure(figsize=(13,7))\n",
        "    plt.title('Box - 1' )\n",
        "    plt.imshow(cv2.cvtColor(box_img_1, cv2.COLOR_BGR2RGB))\n",
        "    plt.figure()"
      ],
      "execution_count": 14,
      "outputs": [
        {
          "output_type": "stream",
          "text": [
            "BOX 1\n",
            "2*98**2+2*3\n",
            "19208+6\n",
            "19214\n"
          ],
          "name": "stdout"
        },
        {
          "output_type": "execute_result",
          "data": {
            "text/plain": [
              "<Figure size 432x288 with 0 Axes>"
            ]
          },
          "metadata": {
            "tags": []
          },
          "execution_count": 14
        },
        {
          "output_type": "display_data",
          "data": {
            "image/png": "[encoded data removed]",
            "text/plain": [
              "<Figure size 936x504 with 1 Axes>"
            ]
          },
          "metadata": {
            "tags": [],
            "needs_background": "light"
          }
        },
        {
          "output_type": "display_data",
          "data": {
            "text/plain": [
              "<Figure size 432x288 with 0 Axes>"
            ]
          },
          "metadata": {
            "tags": []
          }
        }
      ]
    },
    {
      "cell_type": "code",
      "metadata": {
        "id": "UTtLbBhV8XS7",
        "colab": {
          "base_uri": "https://localhost:8080/",
          "height": 142
        },
        "outputId": "9f3b509c-c912-4507-867c-8ccbe54cbe2c"
      },
      "source": [
        "df_l"
      ],
      "execution_count": 15,
      "outputs": [
        {
          "output_type": "execute_result",
          "data": {
            "text/html": [
              "<div>\n",
              "<style scoped>\n",
              "    .dataframe tbody tr th:only-of-type {\n",
              "        vertical-align: middle;\n",
              "    }\n",
              "\n",
              "    .dataframe tbody tr th {\n",
              "        vertical-align: top;\n",
              "    }\n",
              "\n",
              "    .dataframe thead th {\n",
              "        text-align: right;\n",
              "    }\n",
              "</style>\n",
              "<table border=\"1\" class=\"dataframe\">\n",
              "  <thead>\n",
              "    <tr style=\"text-align: right;\">\n",
              "      <th></th>\n",
              "      <th>y1</th>\n",
              "      <th>y2</th>\n",
              "      <th>x1</th>\n",
              "      <th>x2</th>\n",
              "      <th>box_num</th>\n",
              "      <th>line_name</th>\n",
              "      <th>line_status</th>\n",
              "    </tr>\n",
              "  </thead>\n",
              "  <tbody>\n",
              "    <tr>\n",
              "      <th>0</th>\n",
              "      <td>136</td>\n",
              "      <td>387</td>\n",
              "      <td>0</td>\n",
              "      <td>4044</td>\n",
              "      <td>0</td>\n",
              "      <td>00</td>\n",
              "      <td>True</td>\n",
              "    </tr>\n",
              "    <tr>\n",
              "      <th>1</th>\n",
              "      <td>517</td>\n",
              "      <td>815</td>\n",
              "      <td>0</td>\n",
              "      <td>4044</td>\n",
              "      <td>0</td>\n",
              "      <td>01</td>\n",
              "      <td>True</td>\n",
              "    </tr>\n",
              "    <tr>\n",
              "      <th>2</th>\n",
              "      <td>896</td>\n",
              "      <td>1092</td>\n",
              "      <td>0</td>\n",
              "      <td>4044</td>\n",
              "      <td>0</td>\n",
              "      <td>02</td>\n",
              "      <td>True</td>\n",
              "    </tr>\n",
              "  </tbody>\n",
              "</table>\n",
              "</div>"
            ],
            "text/plain": [
              "    y1    y2  x1    x2  box_num line_name  line_status\n",
              "0  136   387   0  4044        0        00         True\n",
              "1  517   815   0  4044        0        01         True\n",
              "2  896  1092   0  4044        0        02         True"
            ]
          },
          "metadata": {
            "tags": []
          },
          "execution_count": 15
        }
      ]
    },
    {
      "cell_type": "code",
      "metadata": {
        "id": "vshy_ou18XVD",
        "colab": {
          "base_uri": "https://localhost:8080/",
          "height": 142
        },
        "outputId": "6590eaf8-d1b9-48a9-d171-e2cd43ccb415"
      },
      "source": [
        "df_l_1 = df_l\n",
        "df_l_1"
      ],
      "execution_count": 16,
      "outputs": [
        {
          "output_type": "execute_result",
          "data": {
            "text/html": [
              "<div>\n",
              "<style scoped>\n",
              "    .dataframe tbody tr th:only-of-type {\n",
              "        vertical-align: middle;\n",
              "    }\n",
              "\n",
              "    .dataframe tbody tr th {\n",
              "        vertical-align: top;\n",
              "    }\n",
              "\n",
              "    .dataframe thead th {\n",
              "        text-align: right;\n",
              "    }\n",
              "</style>\n",
              "<table border=\"1\" class=\"dataframe\">\n",
              "  <thead>\n",
              "    <tr style=\"text-align: right;\">\n",
              "      <th></th>\n",
              "      <th>y1</th>\n",
              "      <th>y2</th>\n",
              "      <th>x1</th>\n",
              "      <th>x2</th>\n",
              "      <th>box_num</th>\n",
              "      <th>line_name</th>\n",
              "      <th>line_status</th>\n",
              "    </tr>\n",
              "  </thead>\n",
              "  <tbody>\n",
              "    <tr>\n",
              "      <th>0</th>\n",
              "      <td>136</td>\n",
              "      <td>387</td>\n",
              "      <td>0</td>\n",
              "      <td>4044</td>\n",
              "      <td>0</td>\n",
              "      <td>00</td>\n",
              "      <td>True</td>\n",
              "    </tr>\n",
              "    <tr>\n",
              "      <th>1</th>\n",
              "      <td>517</td>\n",
              "      <td>815</td>\n",
              "      <td>0</td>\n",
              "      <td>4044</td>\n",
              "      <td>0</td>\n",
              "      <td>01</td>\n",
              "      <td>True</td>\n",
              "    </tr>\n",
              "    <tr>\n",
              "      <th>2</th>\n",
              "      <td>896</td>\n",
              "      <td>1092</td>\n",
              "      <td>0</td>\n",
              "      <td>4044</td>\n",
              "      <td>0</td>\n",
              "      <td>02</td>\n",
              "      <td>True</td>\n",
              "    </tr>\n",
              "  </tbody>\n",
              "</table>\n",
              "</div>"
            ],
            "text/plain": [
              "    y1    y2  x1    x2  box_num line_name  line_status\n",
              "0  136   387   0  4044        0        00         True\n",
              "1  517   815   0  4044        0        01         True\n",
              "2  896  1092   0  4044        0        02         True"
            ]
          },
          "metadata": {
            "tags": []
          },
          "execution_count": 16
        }
      ]
    },
    {
      "cell_type": "code",
      "metadata": {
        "id": "BOHfg3Nz8XZB",
        "colab": {
          "base_uri": "https://localhost:8080/",
          "height": 501
        },
        "outputId": "64a206f8-8528-4a72-b74d-e88b741a82d8"
      },
      "source": [
        "    print('BOX 2')\n",
        "    box_img_two = dict_clean_img[1] #For Processing B/W image\n",
        "    box_img_2 = dict_img[1] #For saving results\n",
        "    box_img_two = cv2.cvtColor(box_img_two, cv2.COLOR_GRAY2BGR)\n",
        "    \n",
        "    df = df_chars[df_chars.box_num == 1].copy()\n",
        "    df_l = df_lines[df_lines[\"box_num\"]==1].copy() #Defining dF with line info\n",
        "    \n",
        "    df['char_df'].apply(lambda d: d.apply(lambda c: cv2.rectangle(box_img_two, \\\n",
        "      (c['X1'],c['Y1']),(c['X2'], c['Y2']),(255*(c['exp']==1),180,0),2+(2*c['exp'])), axis=1 ) )\n",
        "    \n",
        "    df['line_status'] = df['char_df'].apply(lambda d: evaluate(d[[\"pred\",\"exp\",\"pred_proba\"]],A,B,X,Y))\n",
        "    \n",
        "    scale_percent = 200 # percent of original size\n",
        "    width = int(box_img_two.shape[1] * scale_percent / 100)\n",
        "    height = int(box_img_two.shape[0] * scale_percent / 100)\n",
        "    dim = (width, height)    \n",
        "    box_img_two = cv2.resize(box_img_two, dim, interpolation = cv2.INTER_AREA)\n",
        "\n",
        "    #Drawing rectangle on original Image\n",
        "    df_l['line_status'] = list(df['line_status']) \n",
        "    df_l.apply(lambda c: cv2.rectangle(box_img_2, (c['x1'],c['y1']),(c['x2'],\\\n",
        "      c['y2']),(255*(c['line_status']==5),255*(c['line_status']==True),\\\n",
        "                                255*(c['line_status']==False)),2), axis=1)\n",
        "    \n",
        "    plt.figure(figsize=(13,7))\n",
        "    plt.title('Box - 2' )\n",
        "    plt.imshow(cv2.cvtColor(box_img_2, cv2.COLOR_BGR2RGB))\n",
        "    plt.figure()"
      ],
      "execution_count": 17,
      "outputs": [
        {
          "output_type": "stream",
          "text": [
            "BOX 2\n",
            "2*98**2+2*3\n",
            "2*9604+6\n",
            "19208+6\n",
            "19212\n"
          ],
          "name": "stdout"
        },
        {
          "output_type": "execute_result",
          "data": {
            "text/plain": [
              "<Figure size 432x288 with 0 Axes>"
            ]
          },
          "metadata": {
            "tags": []
          },
          "execution_count": 17
        },
        {
          "output_type": "display_data",
          "data": {
            "image/png": "[encoded data removed]",
            "text/plain": [
              "<Figure size 936x504 with 1 Axes>"
            ]
          },
          "metadata": {
            "tags": [],
            "needs_background": "light"
          }
        },
        {
          "output_type": "display_data",
          "data": {
            "text/plain": [
              "<Figure size 432x288 with 0 Axes>"
            ]
          },
          "metadata": {
            "tags": []
          }
        }
      ]
    },
    {
      "cell_type": "code",
      "metadata": {
        "id": "wrNGj_178Xar",
        "colab": {
          "base_uri": "https://localhost:8080/",
          "height": 173
        },
        "outputId": "e267065f-c0d1-420b-a412-c831456d80b0"
      },
      "source": [
        "df_l"
      ],
      "execution_count": 18,
      "outputs": [
        {
          "output_type": "execute_result",
          "data": {
            "text/html": [
              "<div>\n",
              "<style scoped>\n",
              "    .dataframe tbody tr th:only-of-type {\n",
              "        vertical-align: middle;\n",
              "    }\n",
              "\n",
              "    .dataframe tbody tr th {\n",
              "        vertical-align: top;\n",
              "    }\n",
              "\n",
              "    .dataframe thead th {\n",
              "        text-align: right;\n",
              "    }\n",
              "</style>\n",
              "<table border=\"1\" class=\"dataframe\">\n",
              "  <thead>\n",
              "    <tr style=\"text-align: right;\">\n",
              "      <th></th>\n",
              "      <th>y1</th>\n",
              "      <th>y2</th>\n",
              "      <th>x1</th>\n",
              "      <th>x2</th>\n",
              "      <th>box_num</th>\n",
              "      <th>line_name</th>\n",
              "      <th>line_status</th>\n",
              "    </tr>\n",
              "  </thead>\n",
              "  <tbody>\n",
              "    <tr>\n",
              "      <th>0</th>\n",
              "      <td>164</td>\n",
              "      <td>441</td>\n",
              "      <td>0</td>\n",
              "      <td>4044</td>\n",
              "      <td>1</td>\n",
              "      <td>10</td>\n",
              "      <td>True</td>\n",
              "    </tr>\n",
              "    <tr>\n",
              "      <th>1</th>\n",
              "      <td>474</td>\n",
              "      <td>742</td>\n",
              "      <td>0</td>\n",
              "      <td>4044</td>\n",
              "      <td>1</td>\n",
              "      <td>11</td>\n",
              "      <td>True</td>\n",
              "    </tr>\n",
              "    <tr>\n",
              "      <th>2</th>\n",
              "      <td>814</td>\n",
              "      <td>1025</td>\n",
              "      <td>0</td>\n",
              "      <td>4044</td>\n",
              "      <td>1</td>\n",
              "      <td>12</td>\n",
              "      <td>True</td>\n",
              "    </tr>\n",
              "    <tr>\n",
              "      <th>3</th>\n",
              "      <td>1192</td>\n",
              "      <td>1346</td>\n",
              "      <td>0</td>\n",
              "      <td>4044</td>\n",
              "      <td>1</td>\n",
              "      <td>13</td>\n",
              "      <td>False</td>\n",
              "    </tr>\n",
              "  </tbody>\n",
              "</table>\n",
              "</div>"
            ],
            "text/plain": [
              "     y1    y2  x1    x2  box_num line_name  line_status\n",
              "0   164   441   0  4044        1        10         True\n",
              "1   474   742   0  4044        1        11         True\n",
              "2   814  1025   0  4044        1        12         True\n",
              "3  1192  1346   0  4044        1        13        False"
            ]
          },
          "metadata": {
            "tags": []
          },
          "execution_count": 18
        }
      ]
    },
    {
      "cell_type": "code",
      "metadata": {
        "id": "qbSowqR68Xeg",
        "colab": {
          "base_uri": "https://localhost:8080/",
          "height": 173
        },
        "outputId": "634c0dd3-8e57-4c39-a502-4beb88de1f88"
      },
      "source": [
        "df_l_2 = df_l\n",
        "df_l_2"
      ],
      "execution_count": 19,
      "outputs": [
        {
          "output_type": "execute_result",
          "data": {
            "text/html": [
              "<div>\n",
              "<style scoped>\n",
              "    .dataframe tbody tr th:only-of-type {\n",
              "        vertical-align: middle;\n",
              "    }\n",
              "\n",
              "    .dataframe tbody tr th {\n",
              "        vertical-align: top;\n",
              "    }\n",
              "\n",
              "    .dataframe thead th {\n",
              "        text-align: right;\n",
              "    }\n",
              "</style>\n",
              "<table border=\"1\" class=\"dataframe\">\n",
              "  <thead>\n",
              "    <tr style=\"text-align: right;\">\n",
              "      <th></th>\n",
              "      <th>y1</th>\n",
              "      <th>y2</th>\n",
              "      <th>x1</th>\n",
              "      <th>x2</th>\n",
              "      <th>box_num</th>\n",
              "      <th>line_name</th>\n",
              "      <th>line_status</th>\n",
              "    </tr>\n",
              "  </thead>\n",
              "  <tbody>\n",
              "    <tr>\n",
              "      <th>0</th>\n",
              "      <td>164</td>\n",
              "      <td>441</td>\n",
              "      <td>0</td>\n",
              "      <td>4044</td>\n",
              "      <td>1</td>\n",
              "      <td>10</td>\n",
              "      <td>True</td>\n",
              "    </tr>\n",
              "    <tr>\n",
              "      <th>1</th>\n",
              "      <td>474</td>\n",
              "      <td>742</td>\n",
              "      <td>0</td>\n",
              "      <td>4044</td>\n",
              "      <td>1</td>\n",
              "      <td>11</td>\n",
              "      <td>True</td>\n",
              "    </tr>\n",
              "    <tr>\n",
              "      <th>2</th>\n",
              "      <td>814</td>\n",
              "      <td>1025</td>\n",
              "      <td>0</td>\n",
              "      <td>4044</td>\n",
              "      <td>1</td>\n",
              "      <td>12</td>\n",
              "      <td>True</td>\n",
              "    </tr>\n",
              "    <tr>\n",
              "      <th>3</th>\n",
              "      <td>1192</td>\n",
              "      <td>1346</td>\n",
              "      <td>0</td>\n",
              "      <td>4044</td>\n",
              "      <td>1</td>\n",
              "      <td>13</td>\n",
              "      <td>False</td>\n",
              "    </tr>\n",
              "  </tbody>\n",
              "</table>\n",
              "</div>"
            ],
            "text/plain": [
              "     y1    y2  x1    x2  box_num line_name  line_status\n",
              "0   164   441   0  4044        1        10         True\n",
              "1   474   742   0  4044        1        11         True\n",
              "2   814  1025   0  4044        1        12         True\n",
              "3  1192  1346   0  4044        1        13        False"
            ]
          },
          "metadata": {
            "tags": []
          },
          "execution_count": 19
        }
      ]
    },
    {
      "cell_type": "code",
      "metadata": {
        "id": "cDodV70L8nU6",
        "colab": {
          "base_uri": "https://localhost:8080/",
          "height": 507
        },
        "outputId": "7c563f66-29d5-431a-b961-b34de3a9a1ce"
      },
      "source": [
        "    print('BOX 3')\n",
        "    box_img_three = dict_clean_img[2] #For Processing B/W image\n",
        "    box_img_3 = dict_img[2] #For saving results\n",
        "    box_img_three = cv2.cvtColor(box_img_three, cv2.COLOR_GRAY2BGR)\n",
        "    \n",
        "    df = df_chars[df_chars.box_num == 2].copy()\n",
        "    df_l = df_lines[df_lines[\"box_num\"]==2].copy() #Defining dF with line info\n",
        "    \n",
        "    df['char_df'].apply(lambda d: d.apply(lambda c: cv2.rectangle(box_img_three, \\\n",
        "      (c['X1'],c['Y1']),(c['X2'], c['Y2']),(255*(c['exp']==1),180,0),2+(2*c['exp'])), axis=1 ) )\n",
        "    \n",
        "    df['line_status'] = df['char_df'].apply(lambda d: evaluate(d[[\"pred\",\"exp\",\"pred_proba\"]],A,B,X,Y))\n",
        "    \n",
        "    scale_percent = 200 # percent of original size\n",
        "    width = int(box_img_three.shape[1] * scale_percent / 100)\n",
        "    height = int(box_img_three.shape[0] * scale_percent / 100)\n",
        "    dim = (width, height)    \n",
        "    box_img_three = cv2.resize(box_img_three, dim, interpolation = cv2.INTER_AREA)\n",
        "\n",
        "    #Drawing rectangle on original Image\n",
        "    df_l['line_status'] = list(df['line_status']) \n",
        "    df_l.apply(lambda c: cv2.rectangle(box_img_3, (c['x1'],c['y1']),(c['x2'],\\\n",
        "      c['y2']),(255*(c['line_status']==5),255*(c['line_status']==True),\\\n",
        "                                255*(c['line_status']==False)),2), axis=1)\n",
        "    \n",
        "    plt.figure(figsize=(13,7))\n",
        "    plt.title('Box - 3' )\n",
        "    plt.imshow(cv2.cvtColor(box_img_3, cv2.COLOR_BGR2RGB))\n",
        "    plt.figure()"
      ],
      "execution_count": 20,
      "outputs": [
        {
          "output_type": "stream",
          "text": [
            "BOX 3\n",
            "2*98**2+2*3\n",
            "2*9609+6\n",
            "19218+6\n",
            "19212\n"
          ],
          "name": "stdout"
        },
        {
          "output_type": "execute_result",
          "data": {
            "text/plain": [
              "<Figure size 432x288 with 0 Axes>"
            ]
          },
          "metadata": {
            "tags": []
          },
          "execution_count": 20
        },
        {
          "output_type": "display_data",
          "data": {
            "image/png": "[encoded data removed]",
            "text/plain": [
              "<Figure size 936x504 with 1 Axes>"
            ]
          },
          "metadata": {
            "tags": [],
            "needs_background": "light"
          }
        },
        {
          "output_type": "display_data",
          "data": {
            "text/plain": [
              "<Figure size 432x288 with 0 Axes>"
            ]
          },
          "metadata": {
            "tags": []
          }
        }
      ]
    },
    {
      "cell_type": "code",
      "metadata": {
        "id": "sAksLY0S8nWx",
        "colab": {
          "base_uri": "https://localhost:8080/",
          "height": 173
        },
        "outputId": "cf7a3172-62de-4fbd-961b-e3669c045285"
      },
      "source": [
        "df_l"
      ],
      "execution_count": 21,
      "outputs": [
        {
          "output_type": "execute_result",
          "data": {
            "text/html": [
              "<div>\n",
              "<style scoped>\n",
              "    .dataframe tbody tr th:only-of-type {\n",
              "        vertical-align: middle;\n",
              "    }\n",
              "\n",
              "    .dataframe tbody tr th {\n",
              "        vertical-align: top;\n",
              "    }\n",
              "\n",
              "    .dataframe thead th {\n",
              "        text-align: right;\n",
              "    }\n",
              "</style>\n",
              "<table border=\"1\" class=\"dataframe\">\n",
              "  <thead>\n",
              "    <tr style=\"text-align: right;\">\n",
              "      <th></th>\n",
              "      <th>y1</th>\n",
              "      <th>y2</th>\n",
              "      <th>x1</th>\n",
              "      <th>x2</th>\n",
              "      <th>box_num</th>\n",
              "      <th>line_name</th>\n",
              "      <th>line_status</th>\n",
              "    </tr>\n",
              "  </thead>\n",
              "  <tbody>\n",
              "    <tr>\n",
              "      <th>0</th>\n",
              "      <td>180</td>\n",
              "      <td>428</td>\n",
              "      <td>0</td>\n",
              "      <td>4046</td>\n",
              "      <td>2</td>\n",
              "      <td>20</td>\n",
              "      <td>True</td>\n",
              "    </tr>\n",
              "    <tr>\n",
              "      <th>1</th>\n",
              "      <td>552</td>\n",
              "      <td>801</td>\n",
              "      <td>0</td>\n",
              "      <td>4046</td>\n",
              "      <td>2</td>\n",
              "      <td>21</td>\n",
              "      <td>False</td>\n",
              "    </tr>\n",
              "    <tr>\n",
              "      <th>2</th>\n",
              "      <td>891</td>\n",
              "      <td>1146</td>\n",
              "      <td>0</td>\n",
              "      <td>4046</td>\n",
              "      <td>2</td>\n",
              "      <td>22</td>\n",
              "      <td>False</td>\n",
              "    </tr>\n",
              "    <tr>\n",
              "      <th>3</th>\n",
              "      <td>1296</td>\n",
              "      <td>1454</td>\n",
              "      <td>0</td>\n",
              "      <td>4046</td>\n",
              "      <td>2</td>\n",
              "      <td>23</td>\n",
              "      <td>False</td>\n",
              "    </tr>\n",
              "  </tbody>\n",
              "</table>\n",
              "</div>"
            ],
            "text/plain": [
              "     y1    y2  x1    x2  box_num line_name  line_status\n",
              "0   180   428   0  4046        2        20         True\n",
              "1   552   801   0  4046        2        21        False\n",
              "2   891  1146   0  4046        2        22        False\n",
              "3  1296  1454   0  4046        2        23        False"
            ]
          },
          "metadata": {
            "tags": []
          },
          "execution_count": 21
        }
      ]
    },
    {
      "cell_type": "code",
      "metadata": {
        "id": "bVxB3crn8naW",
        "colab": {
          "base_uri": "https://localhost:8080/",
          "height": 173
        },
        "outputId": "94cdef2a-698e-47c9-91df-ad8e60978fd5"
      },
      "source": [
        "df_l_3 = df_l\n",
        "df_l_3"
      ],
      "execution_count": 22,
      "outputs": [
        {
          "output_type": "execute_result",
          "data": {
            "text/html": [
              "<div>\n",
              "<style scoped>\n",
              "    .dataframe tbody tr th:only-of-type {\n",
              "        vertical-align: middle;\n",
              "    }\n",
              "\n",
              "    .dataframe tbody tr th {\n",
              "        vertical-align: top;\n",
              "    }\n",
              "\n",
              "    .dataframe thead th {\n",
              "        text-align: right;\n",
              "    }\n",
              "</style>\n",
              "<table border=\"1\" class=\"dataframe\">\n",
              "  <thead>\n",
              "    <tr style=\"text-align: right;\">\n",
              "      <th></th>\n",
              "      <th>y1</th>\n",
              "      <th>y2</th>\n",
              "      <th>x1</th>\n",
              "      <th>x2</th>\n",
              "      <th>box_num</th>\n",
              "      <th>line_name</th>\n",
              "      <th>line_status</th>\n",
              "    </tr>\n",
              "  </thead>\n",
              "  <tbody>\n",
              "    <tr>\n",
              "      <th>0</th>\n",
              "      <td>180</td>\n",
              "      <td>428</td>\n",
              "      <td>0</td>\n",
              "      <td>4046</td>\n",
              "      <td>2</td>\n",
              "      <td>20</td>\n",
              "      <td>True</td>\n",
              "    </tr>\n",
              "    <tr>\n",
              "      <th>1</th>\n",
              "      <td>552</td>\n",
              "      <td>801</td>\n",
              "      <td>0</td>\n",
              "      <td>4046</td>\n",
              "      <td>2</td>\n",
              "      <td>21</td>\n",
              "      <td>False</td>\n",
              "    </tr>\n",
              "    <tr>\n",
              "      <th>2</th>\n",
              "      <td>891</td>\n",
              "      <td>1146</td>\n",
              "      <td>0</td>\n",
              "      <td>4046</td>\n",
              "      <td>2</td>\n",
              "      <td>22</td>\n",
              "      <td>False</td>\n",
              "    </tr>\n",
              "    <tr>\n",
              "      <th>3</th>\n",
              "      <td>1296</td>\n",
              "      <td>1454</td>\n",
              "      <td>0</td>\n",
              "      <td>4046</td>\n",
              "      <td>2</td>\n",
              "      <td>23</td>\n",
              "      <td>False</td>\n",
              "    </tr>\n",
              "  </tbody>\n",
              "</table>\n",
              "</div>"
            ],
            "text/plain": [
              "     y1    y2  x1    x2  box_num line_name  line_status\n",
              "0   180   428   0  4046        2        20         True\n",
              "1   552   801   0  4046        2        21        False\n",
              "2   891  1146   0  4046        2        22        False\n",
              "3  1296  1454   0  4046        2        23        False"
            ]
          },
          "metadata": {
            "tags": []
          },
          "execution_count": 22
        }
      ]
    },
    {
      "cell_type": "code",
      "metadata": {
        "id": "2yJAF1Z88ndg",
        "colab": {
          "base_uri": "https://localhost:8080/",
          "height": 266
        },
        "outputId": "16c9f6a9-28af-4321-da06-2b6efbbd5e51"
      },
      "source": [
        "df_final = df_l_1.append(df_l_2)\n",
        "df_final"
      ],
      "execution_count": 23,
      "outputs": [
        {
          "output_type": "execute_result",
          "data": {
            "text/html": [
              "<div>\n",
              "<style scoped>\n",
              "    .dataframe tbody tr th:only-of-type {\n",
              "        vertical-align: middle;\n",
              "    }\n",
              "\n",
              "    .dataframe tbody tr th {\n",
              "        vertical-align: top;\n",
              "    }\n",
              "\n",
              "    .dataframe thead th {\n",
              "        text-align: right;\n",
              "    }\n",
              "</style>\n",
              "<table border=\"1\" class=\"dataframe\">\n",
              "  <thead>\n",
              "    <tr style=\"text-align: right;\">\n",
              "      <th></th>\n",
              "      <th>y1</th>\n",
              "      <th>y2</th>\n",
              "      <th>x1</th>\n",
              "      <th>x2</th>\n",
              "      <th>box_num</th>\n",
              "      <th>line_name</th>\n",
              "      <th>line_status</th>\n",
              "    </tr>\n",
              "  </thead>\n",
              "  <tbody>\n",
              "    <tr>\n",
              "      <th>0</th>\n",
              "      <td>136</td>\n",
              "      <td>387</td>\n",
              "      <td>0</td>\n",
              "      <td>4044</td>\n",
              "      <td>0</td>\n",
              "      <td>00</td>\n",
              "      <td>True</td>\n",
              "    </tr>\n",
              "    <tr>\n",
              "      <th>1</th>\n",
              "      <td>517</td>\n",
              "      <td>815</td>\n",
              "      <td>0</td>\n",
              "      <td>4044</td>\n",
              "      <td>0</td>\n",
              "      <td>01</td>\n",
              "      <td>True</td>\n",
              "    </tr>\n",
              "    <tr>\n",
              "      <th>2</th>\n",
              "      <td>896</td>\n",
              "      <td>1092</td>\n",
              "      <td>0</td>\n",
              "      <td>4044</td>\n",
              "      <td>0</td>\n",
              "      <td>02</td>\n",
              "      <td>True</td>\n",
              "    </tr>\n",
              "    <tr>\n",
              "      <th>0</th>\n",
              "      <td>164</td>\n",
              "      <td>441</td>\n",
              "      <td>0</td>\n",
              "      <td>4044</td>\n",
              "      <td>1</td>\n",
              "      <td>10</td>\n",
              "      <td>True</td>\n",
              "    </tr>\n",
              "    <tr>\n",
              "      <th>1</th>\n",
              "      <td>474</td>\n",
              "      <td>742</td>\n",
              "      <td>0</td>\n",
              "      <td>4044</td>\n",
              "      <td>1</td>\n",
              "      <td>11</td>\n",
              "      <td>True</td>\n",
              "    </tr>\n",
              "    <tr>\n",
              "      <th>2</th>\n",
              "      <td>814</td>\n",
              "      <td>1025</td>\n",
              "      <td>0</td>\n",
              "      <td>4044</td>\n",
              "      <td>1</td>\n",
              "      <td>12</td>\n",
              "      <td>True</td>\n",
              "    </tr>\n",
              "    <tr>\n",
              "      <th>3</th>\n",
              "      <td>1192</td>\n",
              "      <td>1346</td>\n",
              "      <td>0</td>\n",
              "      <td>4044</td>\n",
              "      <td>1</td>\n",
              "      <td>13</td>\n",
              "      <td>False</td>\n",
              "    </tr>\n",
              "  </tbody>\n",
              "</table>\n",
              "</div>"
            ],
            "text/plain": [
              "     y1    y2  x1    x2  box_num line_name  line_status\n",
              "0   136   387   0  4044        0        00         True\n",
              "1   517   815   0  4044        0        01         True\n",
              "2   896  1092   0  4044        0        02         True\n",
              "0   164   441   0  4044        1        10         True\n",
              "1   474   742   0  4044        1        11         True\n",
              "2   814  1025   0  4044        1        12         True\n",
              "3  1192  1346   0  4044        1        13        False"
            ]
          },
          "metadata": {
            "tags": []
          },
          "execution_count": 23
        }
      ]
    },
    {
      "cell_type": "code",
      "metadata": {
        "id": "6yPx6Yfl8w8x",
        "colab": {
          "base_uri": "https://localhost:8080/",
          "height": 390
        },
        "outputId": "3c1b4e18-6138-457c-a0ca-04ef6e2adf90"
      },
      "source": [
        "df_final = df_final.append(df_l_3)\n",
        "df_final"
      ],
      "execution_count": 24,
      "outputs": [
        {
          "output_type": "execute_result",
          "data": {
            "text/html": [
              "<div>\n",
              "<style scoped>\n",
              "    .dataframe tbody tr th:only-of-type {\n",
              "        vertical-align: middle;\n",
              "    }\n",
              "\n",
              "    .dataframe tbody tr th {\n",
              "        vertical-align: top;\n",
              "    }\n",
              "\n",
              "    .dataframe thead th {\n",
              "        text-align: right;\n",
              "    }\n",
              "</style>\n",
              "<table border=\"1\" class=\"dataframe\">\n",
              "  <thead>\n",
              "    <tr style=\"text-align: right;\">\n",
              "      <th></th>\n",
              "      <th>y1</th>\n",
              "      <th>y2</th>\n",
              "      <th>x1</th>\n",
              "      <th>x2</th>\n",
              "      <th>box_num</th>\n",
              "      <th>line_name</th>\n",
              "      <th>line_status</th>\n",
              "    </tr>\n",
              "  </thead>\n",
              "  <tbody>\n",
              "    <tr>\n",
              "      <th>0</th>\n",
              "      <td>136</td>\n",
              "      <td>387</td>\n",
              "      <td>0</td>\n",
              "      <td>4044</td>\n",
              "      <td>0</td>\n",
              "      <td>00</td>\n",
              "      <td>True</td>\n",
              "    </tr>\n",
              "    <tr>\n",
              "      <th>1</th>\n",
              "      <td>517</td>\n",
              "      <td>815</td>\n",
              "      <td>0</td>\n",
              "      <td>4044</td>\n",
              "      <td>0</td>\n",
              "      <td>01</td>\n",
              "      <td>True</td>\n",
              "    </tr>\n",
              "    <tr>\n",
              "      <th>2</th>\n",
              "      <td>896</td>\n",
              "      <td>1092</td>\n",
              "      <td>0</td>\n",
              "      <td>4044</td>\n",
              "      <td>0</td>\n",
              "      <td>02</td>\n",
              "      <td>True</td>\n",
              "    </tr>\n",
              "    <tr>\n",
              "      <th>0</th>\n",
              "      <td>164</td>\n",
              "      <td>441</td>\n",
              "      <td>0</td>\n",
              "      <td>4044</td>\n",
              "      <td>1</td>\n",
              "      <td>10</td>\n",
              "      <td>True</td>\n",
              "    </tr>\n",
              "    <tr>\n",
              "      <th>1</th>\n",
              "      <td>474</td>\n",
              "      <td>742</td>\n",
              "      <td>0</td>\n",
              "      <td>4044</td>\n",
              "      <td>1</td>\n",
              "      <td>11</td>\n",
              "      <td>True</td>\n",
              "    </tr>\n",
              "    <tr>\n",
              "      <th>2</th>\n",
              "      <td>814</td>\n",
              "      <td>1025</td>\n",
              "      <td>0</td>\n",
              "      <td>4044</td>\n",
              "      <td>1</td>\n",
              "      <td>12</td>\n",
              "      <td>True</td>\n",
              "    </tr>\n",
              "    <tr>\n",
              "      <th>3</th>\n",
              "      <td>1192</td>\n",
              "      <td>1346</td>\n",
              "      <td>0</td>\n",
              "      <td>4044</td>\n",
              "      <td>1</td>\n",
              "      <td>13</td>\n",
              "      <td>False</td>\n",
              "    </tr>\n",
              "    <tr>\n",
              "      <th>0</th>\n",
              "      <td>180</td>\n",
              "      <td>428</td>\n",
              "      <td>0</td>\n",
              "      <td>4046</td>\n",
              "      <td>2</td>\n",
              "      <td>20</td>\n",
              "      <td>True</td>\n",
              "    </tr>\n",
              "    <tr>\n",
              "      <th>1</th>\n",
              "      <td>552</td>\n",
              "      <td>801</td>\n",
              "      <td>0</td>\n",
              "      <td>4046</td>\n",
              "      <td>2</td>\n",
              "      <td>21</td>\n",
              "      <td>False</td>\n",
              "    </tr>\n",
              "    <tr>\n",
              "      <th>2</th>\n",
              "      <td>891</td>\n",
              "      <td>1146</td>\n",
              "      <td>0</td>\n",
              "      <td>4046</td>\n",
              "      <td>2</td>\n",
              "      <td>22</td>\n",
              "      <td>False</td>\n",
              "    </tr>\n",
              "    <tr>\n",
              "      <th>3</th>\n",
              "      <td>1296</td>\n",
              "      <td>1454</td>\n",
              "      <td>0</td>\n",
              "      <td>4046</td>\n",
              "      <td>2</td>\n",
              "      <td>23</td>\n",
              "      <td>False</td>\n",
              "    </tr>\n",
              "  </tbody>\n",
              "</table>\n",
              "</div>"
            ],
            "text/plain": [
              "     y1    y2  x1    x2  box_num line_name  line_status\n",
              "0   136   387   0  4044        0        00         True\n",
              "1   517   815   0  4044        0        01         True\n",
              "2   896  1092   0  4044        0        02         True\n",
              "0   164   441   0  4044        1        10         True\n",
              "1   474   742   0  4044        1        11         True\n",
              "2   814  1025   0  4044        1        12         True\n",
              "3  1192  1346   0  4044        1        13        False\n",
              "0   180   428   0  4046        2        20         True\n",
              "1   552   801   0  4046        2        21        False\n",
              "2   891  1146   0  4046        2        22        False\n",
              "3  1296  1454   0  4046        2        23        False"
            ]
          },
          "metadata": {
            "tags": []
          },
          "execution_count": 24
        }
      ]
    },
    {
      "cell_type": "code",
      "metadata": {
        "id": "6pCUegC-8w_N",
        "colab": {
          "base_uri": "https://localhost:8080/",
          "height": 390
        },
        "outputId": "dd23b971-2a17-409f-8fb7-9c981b08a01f"
      },
      "source": [
        "df_final = df_final.reset_index(drop = True)\n",
        "df_final"
      ],
      "execution_count": 25,
      "outputs": [
        {
          "output_type": "execute_result",
          "data": {
            "text/html": [
              "<div>\n",
              "<style scoped>\n",
              "    .dataframe tbody tr th:only-of-type {\n",
              "        vertical-align: middle;\n",
              "    }\n",
              "\n",
              "    .dataframe tbody tr th {\n",
              "        vertical-align: top;\n",
              "    }\n",
              "\n",
              "    .dataframe thead th {\n",
              "        text-align: right;\n",
              "    }\n",
              "</style>\n",
              "<table border=\"1\" class=\"dataframe\">\n",
              "  <thead>\n",
              "    <tr style=\"text-align: right;\">\n",
              "      <th></th>\n",
              "      <th>y1</th>\n",
              "      <th>y2</th>\n",
              "      <th>x1</th>\n",
              "      <th>x2</th>\n",
              "      <th>box_num</th>\n",
              "      <th>line_name</th>\n",
              "      <th>line_status</th>\n",
              "    </tr>\n",
              "  </thead>\n",
              "  <tbody>\n",
              "    <tr>\n",
              "      <th>0</th>\n",
              "      <td>136</td>\n",
              "      <td>387</td>\n",
              "      <td>0</td>\n",
              "      <td>4044</td>\n",
              "      <td>0</td>\n",
              "      <td>00</td>\n",
              "      <td>True</td>\n",
              "    </tr>\n",
              "    <tr>\n",
              "      <th>1</th>\n",
              "      <td>517</td>\n",
              "      <td>815</td>\n",
              "      <td>0</td>\n",
              "      <td>4044</td>\n",
              "      <td>0</td>\n",
              "      <td>01</td>\n",
              "      <td>True</td>\n",
              "    </tr>\n",
              "    <tr>\n",
              "      <th>2</th>\n",
              "      <td>896</td>\n",
              "      <td>1092</td>\n",
              "      <td>0</td>\n",
              "      <td>4044</td>\n",
              "      <td>0</td>\n",
              "      <td>02</td>\n",
              "      <td>True</td>\n",
              "    </tr>\n",
              "    <tr>\n",
              "      <th>3</th>\n",
              "      <td>164</td>\n",
              "      <td>441</td>\n",
              "      <td>0</td>\n",
              "      <td>4044</td>\n",
              "      <td>1</td>\n",
              "      <td>10</td>\n",
              "      <td>True</td>\n",
              "    </tr>\n",
              "    <tr>\n",
              "      <th>4</th>\n",
              "      <td>474</td>\n",
              "      <td>742</td>\n",
              "      <td>0</td>\n",
              "      <td>4044</td>\n",
              "      <td>1</td>\n",
              "      <td>11</td>\n",
              "      <td>True</td>\n",
              "    </tr>\n",
              "    <tr>\n",
              "      <th>5</th>\n",
              "      <td>814</td>\n",
              "      <td>1025</td>\n",
              "      <td>0</td>\n",
              "      <td>4044</td>\n",
              "      <td>1</td>\n",
              "      <td>12</td>\n",
              "      <td>True</td>\n",
              "    </tr>\n",
              "    <tr>\n",
              "      <th>6</th>\n",
              "      <td>1192</td>\n",
              "      <td>1346</td>\n",
              "      <td>0</td>\n",
              "      <td>4044</td>\n",
              "      <td>1</td>\n",
              "      <td>13</td>\n",
              "      <td>False</td>\n",
              "    </tr>\n",
              "    <tr>\n",
              "      <th>7</th>\n",
              "      <td>180</td>\n",
              "      <td>428</td>\n",
              "      <td>0</td>\n",
              "      <td>4046</td>\n",
              "      <td>2</td>\n",
              "      <td>20</td>\n",
              "      <td>True</td>\n",
              "    </tr>\n",
              "    <tr>\n",
              "      <th>8</th>\n",
              "      <td>552</td>\n",
              "      <td>801</td>\n",
              "      <td>0</td>\n",
              "      <td>4046</td>\n",
              "      <td>2</td>\n",
              "      <td>21</td>\n",
              "      <td>False</td>\n",
              "    </tr>\n",
              "    <tr>\n",
              "      <th>9</th>\n",
              "      <td>891</td>\n",
              "      <td>1146</td>\n",
              "      <td>0</td>\n",
              "      <td>4046</td>\n",
              "      <td>2</td>\n",
              "      <td>22</td>\n",
              "      <td>False</td>\n",
              "    </tr>\n",
              "    <tr>\n",
              "      <th>10</th>\n",
              "      <td>1296</td>\n",
              "      <td>1454</td>\n",
              "      <td>0</td>\n",
              "      <td>4046</td>\n",
              "      <td>2</td>\n",
              "      <td>23</td>\n",
              "      <td>False</td>\n",
              "    </tr>\n",
              "  </tbody>\n",
              "</table>\n",
              "</div>"
            ],
            "text/plain": [
              "      y1    y2  x1    x2  box_num line_name  line_status\n",
              "0    136   387   0  4044        0        00         True\n",
              "1    517   815   0  4044        0        01         True\n",
              "2    896  1092   0  4044        0        02         True\n",
              "3    164   441   0  4044        1        10         True\n",
              "4    474   742   0  4044        1        11         True\n",
              "5    814  1025   0  4044        1        12         True\n",
              "6   1192  1346   0  4044        1        13        False\n",
              "7    180   428   0  4046        2        20         True\n",
              "8    552   801   0  4046        2        21        False\n",
              "9    891  1146   0  4046        2        22        False\n",
              "10  1296  1454   0  4046        2        23        False"
            ]
          },
          "metadata": {
            "tags": []
          },
          "execution_count": 25
        }
      ]
    },
    {
      "cell_type": "code",
      "metadata": {
        "id": "I4IZf7SA8xCg",
        "colab": {
          "base_uri": "https://localhost:8080/",
          "height": 142
        },
        "outputId": "348678c4-730c-4493-bd50-94e7e65a9522"
      },
      "source": [
        " df_box_1 = df_final[(df_final[\"box_num\"] == 0)]\n",
        " df_box_1"
      ],
      "execution_count": 26,
      "outputs": [
        {
          "output_type": "execute_result",
          "data": {
            "text/html": [
              "<div>\n",
              "<style scoped>\n",
              "    .dataframe tbody tr th:only-of-type {\n",
              "        vertical-align: middle;\n",
              "    }\n",
              "\n",
              "    .dataframe tbody tr th {\n",
              "        vertical-align: top;\n",
              "    }\n",
              "\n",
              "    .dataframe thead th {\n",
              "        text-align: right;\n",
              "    }\n",
              "</style>\n",
              "<table border=\"1\" class=\"dataframe\">\n",
              "  <thead>\n",
              "    <tr style=\"text-align: right;\">\n",
              "      <th></th>\n",
              "      <th>y1</th>\n",
              "      <th>y2</th>\n",
              "      <th>x1</th>\n",
              "      <th>x2</th>\n",
              "      <th>box_num</th>\n",
              "      <th>line_name</th>\n",
              "      <th>line_status</th>\n",
              "    </tr>\n",
              "  </thead>\n",
              "  <tbody>\n",
              "    <tr>\n",
              "      <th>0</th>\n",
              "      <td>136</td>\n",
              "      <td>387</td>\n",
              "      <td>0</td>\n",
              "      <td>4044</td>\n",
              "      <td>0</td>\n",
              "      <td>00</td>\n",
              "      <td>True</td>\n",
              "    </tr>\n",
              "    <tr>\n",
              "      <th>1</th>\n",
              "      <td>517</td>\n",
              "      <td>815</td>\n",
              "      <td>0</td>\n",
              "      <td>4044</td>\n",
              "      <td>0</td>\n",
              "      <td>01</td>\n",
              "      <td>True</td>\n",
              "    </tr>\n",
              "    <tr>\n",
              "      <th>2</th>\n",
              "      <td>896</td>\n",
              "      <td>1092</td>\n",
              "      <td>0</td>\n",
              "      <td>4044</td>\n",
              "      <td>0</td>\n",
              "      <td>02</td>\n",
              "      <td>True</td>\n",
              "    </tr>\n",
              "  </tbody>\n",
              "</table>\n",
              "</div>"
            ],
            "text/plain": [
              "    y1    y2  x1    x2  box_num line_name  line_status\n",
              "0  136   387   0  4044        0        00         True\n",
              "1  517   815   0  4044        0        01         True\n",
              "2  896  1092   0  4044        0        02         True"
            ]
          },
          "metadata": {
            "tags": []
          },
          "execution_count": 26
        }
      ]
    },
    {
      "cell_type": "code",
      "metadata": {
        "id": "NaKOrmlZ85EX",
        "colab": {
          "base_uri": "https://localhost:8080/",
          "height": 173
        },
        "outputId": "c544898d-1f71-428a-801e-67a2d793d490"
      },
      "source": [
        " df_box_2 = df_final[(df_final[\"box_num\"] == 1)]\n",
        " df_box_2"
      ],
      "execution_count": 27,
      "outputs": [
        {
          "output_type": "execute_result",
          "data": {
            "text/html": [
              "<div>\n",
              "<style scoped>\n",
              "    .dataframe tbody tr th:only-of-type {\n",
              "        vertical-align: middle;\n",
              "    }\n",
              "\n",
              "    .dataframe tbody tr th {\n",
              "        vertical-align: top;\n",
              "    }\n",
              "\n",
              "    .dataframe thead th {\n",
              "        text-align: right;\n",
              "    }\n",
              "</style>\n",
              "<table border=\"1\" class=\"dataframe\">\n",
              "  <thead>\n",
              "    <tr style=\"text-align: right;\">\n",
              "      <th></th>\n",
              "      <th>y1</th>\n",
              "      <th>y2</th>\n",
              "      <th>x1</th>\n",
              "      <th>x2</th>\n",
              "      <th>box_num</th>\n",
              "      <th>line_name</th>\n",
              "      <th>line_status</th>\n",
              "    </tr>\n",
              "  </thead>\n",
              "  <tbody>\n",
              "    <tr>\n",
              "      <th>3</th>\n",
              "      <td>164</td>\n",
              "      <td>441</td>\n",
              "      <td>0</td>\n",
              "      <td>4044</td>\n",
              "      <td>1</td>\n",
              "      <td>10</td>\n",
              "      <td>True</td>\n",
              "    </tr>\n",
              "    <tr>\n",
              "      <th>4</th>\n",
              "      <td>474</td>\n",
              "      <td>742</td>\n",
              "      <td>0</td>\n",
              "      <td>4044</td>\n",
              "      <td>1</td>\n",
              "      <td>11</td>\n",
              "      <td>True</td>\n",
              "    </tr>\n",
              "    <tr>\n",
              "      <th>5</th>\n",
              "      <td>814</td>\n",
              "      <td>1025</td>\n",
              "      <td>0</td>\n",
              "      <td>4044</td>\n",
              "      <td>1</td>\n",
              "      <td>12</td>\n",
              "      <td>True</td>\n",
              "    </tr>\n",
              "    <tr>\n",
              "      <th>6</th>\n",
              "      <td>1192</td>\n",
              "      <td>1346</td>\n",
              "      <td>0</td>\n",
              "      <td>4044</td>\n",
              "      <td>1</td>\n",
              "      <td>13</td>\n",
              "      <td>False</td>\n",
              "    </tr>\n",
              "  </tbody>\n",
              "</table>\n",
              "</div>"
            ],
            "text/plain": [
              "     y1    y2  x1    x2  box_num line_name  line_status\n",
              "3   164   441   0  4044        1        10         True\n",
              "4   474   742   0  4044        1        11         True\n",
              "5   814  1025   0  4044        1        12         True\n",
              "6  1192  1346   0  4044        1        13        False"
            ]
          },
          "metadata": {
            "tags": []
          },
          "execution_count": 27
        }
      ]
    },
    {
      "cell_type": "code",
      "metadata": {
        "id": "cMwrR5tN85H_",
        "colab": {
          "base_uri": "https://localhost:8080/",
          "height": 173
        },
        "outputId": "81f51289-9c9f-4299-81f0-3c2fc6a14a5e"
      },
      "source": [
        " df_box_3 = df_final[(df_final[\"box_num\"] == 2)]\n",
        " df_box_3"
      ],
      "execution_count": 28,
      "outputs": [
        {
          "output_type": "execute_result",
          "data": {
            "text/html": [
              "<div>\n",
              "<style scoped>\n",
              "    .dataframe tbody tr th:only-of-type {\n",
              "        vertical-align: middle;\n",
              "    }\n",
              "\n",
              "    .dataframe tbody tr th {\n",
              "        vertical-align: top;\n",
              "    }\n",
              "\n",
              "    .dataframe thead th {\n",
              "        text-align: right;\n",
              "    }\n",
              "</style>\n",
              "<table border=\"1\" class=\"dataframe\">\n",
              "  <thead>\n",
              "    <tr style=\"text-align: right;\">\n",
              "      <th></th>\n",
              "      <th>y1</th>\n",
              "      <th>y2</th>\n",
              "      <th>x1</th>\n",
              "      <th>x2</th>\n",
              "      <th>box_num</th>\n",
              "      <th>line_name</th>\n",
              "      <th>line_status</th>\n",
              "    </tr>\n",
              "  </thead>\n",
              "  <tbody>\n",
              "    <tr>\n",
              "      <th>7</th>\n",
              "      <td>180</td>\n",
              "      <td>428</td>\n",
              "      <td>0</td>\n",
              "      <td>4046</td>\n",
              "      <td>2</td>\n",
              "      <td>20</td>\n",
              "      <td>True</td>\n",
              "    </tr>\n",
              "    <tr>\n",
              "      <th>8</th>\n",
              "      <td>552</td>\n",
              "      <td>801</td>\n",
              "      <td>0</td>\n",
              "      <td>4046</td>\n",
              "      <td>2</td>\n",
              "      <td>21</td>\n",
              "      <td>False</td>\n",
              "    </tr>\n",
              "    <tr>\n",
              "      <th>9</th>\n",
              "      <td>891</td>\n",
              "      <td>1146</td>\n",
              "      <td>0</td>\n",
              "      <td>4046</td>\n",
              "      <td>2</td>\n",
              "      <td>22</td>\n",
              "      <td>False</td>\n",
              "    </tr>\n",
              "    <tr>\n",
              "      <th>10</th>\n",
              "      <td>1296</td>\n",
              "      <td>1454</td>\n",
              "      <td>0</td>\n",
              "      <td>4046</td>\n",
              "      <td>2</td>\n",
              "      <td>23</td>\n",
              "      <td>False</td>\n",
              "    </tr>\n",
              "  </tbody>\n",
              "</table>\n",
              "</div>"
            ],
            "text/plain": [
              "      y1    y2  x1    x2  box_num line_name  line_status\n",
              "7    180   428   0  4046        2        20         True\n",
              "8    552   801   0  4046        2        21        False\n",
              "9    891  1146   0  4046        2        22        False\n",
              "10  1296  1454   0  4046        2        23        False"
            ]
          },
          "metadata": {
            "tags": []
          },
          "execution_count": 28
        }
      ]
    },
    {
      "cell_type": "code",
      "metadata": {
        "id": "z7TQcuDI89Wk",
        "colab": {
          "base_uri": "https://localhost:8080/"
        },
        "outputId": "9976e727-a31e-4111-ec54-afaad915bcd4"
      },
      "source": [
        "t = 0 \n",
        "f = 0\n",
        "for i in df_box_1['line_status']:\n",
        "  if i == True:\n",
        "    t += 1\n",
        "  else:\n",
        "    f += 1\n",
        "print(\"TRUE LINES: \",t)\n",
        "print('FALSE LINES: ',f)\n",
        "\n",
        "if f == 0 :\n",
        "  score1 = 30\n",
        "elif t == 0 :\n",
        "  score1 = 0\n",
        "elif t == f:\n",
        "  score1 = 15\n",
        "elif t > f:\n",
        "  score1 = 25\n",
        "else:  # f > t\n",
        "  score1 = 8\n",
        "\n",
        "print(score1)"
      ],
      "execution_count": 29,
      "outputs": [
        {
          "output_type": "stream",
          "text": [
            "TRUE LINES:  3\n",
            "FALSE LINES:  0\n",
            "30\n"
          ],
          "name": "stdout"
        }
      ]
    },
    {
      "cell_type": "code",
      "metadata": {
        "id": "Cln4pUTx89Yu",
        "colab": {
          "base_uri": "https://localhost:8080/"
        },
        "outputId": "1eabc447-b537-44d7-9110-efc5e3ee86fb"
      },
      "source": [
        "t2 = 0 \n",
        "f2 = 0\n",
        "for i in df_box_2['line_status']:\n",
        "  if i == True:\n",
        "    t2 += 1\n",
        "  else:\n",
        "    f2 += 1\n",
        "print(\"TRUE LINES: \",t2)\n",
        "print('FALSE LINES: ',f2)\n",
        "\n",
        "if f2 == 0 :\n",
        "  score2 = 30\n",
        "elif t2 == 0 :\n",
        "  score2 = 0\n",
        "elif t2 == f2:\n",
        "  score2 = 15\n",
        "elif t2 > f2:\n",
        "  score2 = 25\n",
        "else:  # f > t\n",
        "  score2 = 8\n",
        "\n",
        "print(score2)"
      ],
      "execution_count": 30,
      "outputs": [
        {
          "output_type": "stream",
          "text": [
            "TRUE LINES:  3\n",
            "FALSE LINES:  1\n",
            "25\n"
          ],
          "name": "stdout"
        }
      ]
    },
    {
      "cell_type": "code",
      "metadata": {
        "id": "KCNRrEp589b6",
        "colab": {
          "base_uri": "https://localhost:8080/"
        },
        "outputId": "44364890-2522-4444-c98d-5c2bb7021166"
      },
      "source": [
        "t3 = 0 \n",
        "f3 = 0\n",
        "for i in df_box_3['line_status']:\n",
        "  if i == True:\n",
        "    t3 += 1\n",
        "  else:\n",
        "    f3 += 1\n",
        "print(\"TRUE LINES: \",t3)\n",
        "print('FALSE LINES: ',f3)\n",
        "\n",
        "if f3 == 0 :\n",
        "  score3 = 30\n",
        "elif t3 == 0 :\n",
        "  score3 = 0\n",
        "elif t3 == f3:\n",
        "  score3 = 15\n",
        "elif t3 > f3:\n",
        "  score3 = 25\n",
        "else:  # f > t\n",
        "  score3 = 8\n",
        "\n",
        "print(score3)"
      ],
      "execution_count": 31,
      "outputs": [
        {
          "output_type": "stream",
          "text": [
            "TRUE LINES:  1\n",
            "FALSE LINES:  3\n",
            "8\n"
          ],
          "name": "stdout"
        }
      ]
    },
    {
      "cell_type": "code",
      "metadata": {
        "id": "Kc6hnVKZ89jM",
        "colab": {
          "base_uri": "https://localhost:8080/"
        },
        "outputId": "475af41b-8316-44dc-bf8d-c2ba3968217f"
      },
      "source": [
        "score = score1+score2+score3\n",
        "score\n",
        "\n",
        "if score < 30:\n",
        "  print('Grade D')\n",
        "elif score in range(30,50):\n",
        "  print('Grade C')\n",
        "elif score in range(50,70):\n",
        "  print('Grade B')\n",
        "else:\n",
        "  print('Grade A')\n"
      ],
      "execution_count": 32,
      "outputs": [
        {
          "output_type": "stream",
          "text": [
            "Grade B\n"
          ],
          "name": "stdout"
        }
      ]
    },
    {
      "cell_type": "code",
      "metadata": {
        "id": "KdqBRfgE85LE"
      },
      "source": [
        ""
      ],
      "execution_count": 32,
      "outputs": []
    }
  ]
}